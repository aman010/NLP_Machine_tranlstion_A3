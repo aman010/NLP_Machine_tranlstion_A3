{
 "cells": [
  {
   "cell_type": "markdown",
   "id": "fd9bff7f-5835-4573-a5ff-b5e7fbeb5fad",
   "metadata": {},
   "source": [
    "## Defining th dataset"
   ]
  },
  {
   "cell_type": "code",
   "execution_count": 706,
   "id": "d732d2ec-f6af-4477-ae81-637ee184e9dc",
   "metadata": {},
   "outputs": [],
   "source": [
    "# !pip install datasets==1.18.1\n",
    "#the script is given by iitb to their direct repository to download the dataset\n",
    "from datasets import load_dataset"
   ]
  },
  {
   "cell_type": "code",
   "execution_count": 707,
   "id": "fda510aa-39a0-4113-a002-4d1761883bb9",
   "metadata": {},
   "outputs": [
    {
     "name": "stderr",
     "output_type": "stream",
     "text": [
      "Using custom data configuration cfilt--iitb-english-hindi-2cfae92395f2614b\n",
      "Reusing dataset parquet (/home/jupyter-st125490/.cache/huggingface/datasets/parquet/cfilt--iitb-english-hindi-2cfae92395f2614b/0.0.0/1638526fd0e8d960534e2155dc54fdff8dce73851f21f031d2fb9c2cf757c121)\n"
     ]
    },
    {
     "data": {
      "application/vnd.jupyter.widget-view+json": {
       "model_id": "f8806a5275854f78a19dfb464ea15cb7",
       "version_major": 2,
       "version_minor": 0
      },
      "text/plain": [
       "  0%|          | 0/3 [00:00<?, ?it/s]"
      ]
     },
     "metadata": {},
     "output_type": "display_data"
    }
   ],
   "source": [
    "#majorly the dataset for hindi to english traslation comes from\n",
    "#https://www.cfilt.iitb.ac.in/iitb_parallel/ \n",
    "#let us explore the data set and build corpus for both\n",
    "\n",
    "\n",
    "dataset = load_dataset(\"cfilt/iitb-english-hindi\")"
   ]
  },
  {
   "cell_type": "code",
   "execution_count": 708,
   "id": "ac7c287d-48ba-479c-95f9-104431198939",
   "metadata": {},
   "outputs": [
    {
     "name": "stdout",
     "output_type": "stream",
     "text": [
      "{'translation': {'en': 'Give your application an accessibility workout', 'hi': 'अपने अनुप्रयोग को पहुंचनीयता व्यायाम का लाभ दें'}}\n",
      "{'translation': {'en': 'Accerciser Accessibility Explorer', 'hi': 'एक्सेर्साइसर पहुंचनीयता अन्वेषक'}}\n",
      "{'translation': {'en': 'The default plugin layout for the bottom panel', 'hi': 'निचले पटल के लिए डिफोल्ट प्लग-इन खाका'}}\n",
      "{'translation': {'en': 'The default plugin layout for the top panel', 'hi': 'ऊपरी पटल के लिए डिफोल्ट प्लग-इन खाका'}}\n",
      "{'translation': {'en': 'A list of plugins that are disabled by default', 'hi': 'उन प्लग-इनों की सूची जिन्हें डिफोल्ट रूप से निष्क्रिय किया गया है'}}\n"
     ]
    }
   ],
   "source": [
    "#lets explore the dataset before we beigin building corpus\n",
    "import torch\n",
    "for i in range(5):\n",
    "    print(dataset['train'][i])"
   ]
  },
  {
   "cell_type": "code",
   "execution_count": 4,
   "id": "1be89253-abb1-446c-bb70-63202f15b9d3",
   "metadata": {},
   "outputs": [
    {
     "name": "stdout",
     "output_type": "stream",
     "text": [
      "cuda:1 NVIDIA GeForce RTX 2080 Ti\n"
     ]
    }
   ],
   "source": [
    "device = 'cuda:1' if torch.cuda.is_available() else 'cpu'\n",
    "print(device, torch.cuda.get_device_name(0))"
   ]
  },
  {
   "cell_type": "markdown",
   "id": "b6d1f809-2c25-4dd0-8060-2675c82c2626",
   "metadata": {},
   "source": [
    "**As we can see the dataset have 1659083 number of rows this one of the biggest dataset used in language translation and model from english to hindi, if in case \n",
    "we are not able to use the whole dataset we will take random examples**"
   ]
  },
  {
   "cell_type": "code",
   "execution_count": 709,
   "id": "25f98c69-f6ae-469e-92c9-580cede25215",
   "metadata": {},
   "outputs": [],
   "source": [
    "#let us create a dataset loader for random 5000 sampling for our training dataset since we have limited resources \n",
    "# !git clone https://github.com/libindic/indicstemmer.git\n",
    "# !cd indicstemmer\n",
    "# !python3 setup.py sdist\n",
    "# !pip install /home/jupyter-st125490/indicstemmer/dist/libindic_stemmer-0.1.1.dev130.tar.gz\n",
    "from torch.utils.data import DataLoader, RandomSampler, Subset\n",
    "import re\n",
    "import nltk\n",
    "import numpy as np\n",
    "from torch import nn\n",
    "from torch.utils.data import Dataset\n",
    "from nltk.tokenize import word_tokenize\n",
    "from nltk.stem import PorterStemmer\n",
    "from libindic.stemmer import Stemmer\n",
    "from indic_transliteration import sanscript\n",
    "from indic_transliteration.sanscript import SchemeMap, SCHEMES\n",
    "from indic_transliteration.sanscript.schemes import Scheme\n",
    "from spacy.lang.hi import STOP_WORDS as STOP_WORDS_HI\n",
    "from nltk.corpus import stopwords\n",
    "from tqdm import tqdm\n",
    "batch_size=32\n",
    "\n",
    "subset=Subset(dataset['train'] , list(range(1000)))\n",
    "data_loader = DataLoader(subset ,batch_size, shuffle=False)\n"
   ]
  },
  {
   "cell_type": "markdown",
   "id": "c3bdbbd4-98d8-4e0f-9b80-f2c9b2871beb",
   "metadata": {},
   "source": [
    "**For hindi language we are inidc-stemer as is is based on the rules based system  iterative suffix stripping to handle multiple levels of inflection**"
   ]
  },
  {
   "cell_type": "code",
   "execution_count": 712,
   "id": "9da3fff5-9297-4823-b46e-e4fe73bebab3",
   "metadata": {},
   "outputs": [],
   "source": [
    "# nitialize Hindi stemmer\n",
    "#from libindic.stemmer import Hindi\n",
    "\n",
    "# hindi_stemmer = Hindi.Hindi()\n",
    "\n",
    "# # Initialize English stemmer\n",
    "# english_stemmer = PorterStemmer()\n",
    "\n",
    "def remove_numbers(text):\n",
    "    # Remove English numbers\n",
    "    text = re.sub(r'\\d+', '', text)\n",
    "        # Remove Hindi numbers\n",
    "    hindi_numbers = ['०', '१', '२', '३', '४', '५', '६', '७', '८', '९']\n",
    "    for num in hindi_numbers:\n",
    "        text = text.replace(num, '')\n",
    "    \n",
    "    return text\n",
    "\n",
    "def remove_english_letters(text):\n",
    "    # Remove English letters\n",
    "    text = re.sub(r'[a-zA-Z]', '', text)\n",
    "    \n",
    "    return text\n",
    "\n",
    "def hindi_punc(text):\n",
    "    # Remove spaces and special characters\n",
    "    text = re.sub(r'[^\\w\\s\\u0900-\\u097F॥।]', ' ', text)\n",
    "    \n",
    "    return text\n",
    "\n",
    "# Define function to clean and preprocess text\n",
    "def clean_and_preprocess_text(text, language):\n",
    "    # Remove punctuation\n",
    "    if language == 'english':\n",
    "        text = re.sub(r'[^\\w\\s]', '', text)\n",
    "    text = remove_numbers(text)\n",
    "    # Tokenize text\n",
    "    if language == 'hindi':\n",
    "        text = hindi_punc(text)\n",
    "        text = remove_english_letters(text)\n",
    "    tokens = word_tokenize(text)\n",
    "    # Remove stopwords\n",
    "    if language == 'hindi':\n",
    "        stop_w = set(STOP_WORDS_HI)\n",
    "        tokens = [token.casefold() for token in tokens if token not in stop_w]\n",
    "    elif language == 'english':\n",
    "        stop_w = set(stopwords.words('english'))\n",
    "        tokens = [token.lower() for token in tokens if token not in stop_w]\n",
    "\n",
    "   \n",
    "    #although stemming is a good idea but we stop using it as language translator need semantic meaning\n",
    "    # # Stem tokens\n",
    "    # if language == 'hindi':\n",
    "    #     tokens = [hindi_stemmer.stem(token) for token in tokens]\n",
    "    #     values = [list(d.values()) for d in tokens]\n",
    "    #     tokens = [item for sublist in values for item in sublist]\n",
    "\n",
    "    # elif language == 'english':\n",
    "    #     tokens = [english_stemmer.stem(token) for token in tokens]\n",
    "\n",
    "    # Join tokens back into a string\n",
    "    text = ' '.join(tokens)\n",
    "\n",
    "    return tokens\n",
    "\n",
    "def preprocess_batch(batch):\n",
    "    hindi_texts = batch['translation']['hi']\n",
    "    english_texts = batch['translation']['en']\n",
    "\n",
    "    preporcessing_hindi_text = []\n",
    "    preporcessing_english_text = []\n",
    "\n",
    "    for hindi_text, english_text in zip(hindi_texts, english_texts):\n",
    "        _hi_text = clean_and_preprocess_text(hindi_text, 'hindi')\n",
    "        _en_text = clean_and_preprocess_text(english_text, 'english')\n",
    "\n",
    "        preporcessing_hindi_text.append(_hi_text)\n",
    "        preporcessing_english_text.append(_en_text)\n",
    "    return preporcessing_hindi_text, preporcessing_english_text"
   ]
  },
  {
   "cell_type": "code",
   "execution_count": 711,
   "id": "862fd8fc-5d4b-41bd-b3ab-ac2900760667",
   "metadata": {},
   "outputs": [
    {
     "name": "stdout",
     "output_type": "stream",
     "text": [
      "([['अनुप्रयोग', 'पहुंचनीयता', 'व्यायाम', 'लाभ', 'दें'], ['एक्सेर्साइसर', 'पहुंचनीयता', 'अन्वेषक'], ['निचले', 'पटल', 'डिफोल्ट', 'प्लग', 'खाका'], ['ऊपरी', 'पटल', 'डिफोल्ट', 'प्लग', 'खाका'], ['प्लग', 'इनों', 'सूची', 'डिफोल्ट', 'रूप', 'निष्क्रिय'], ['अवधि', 'हाइलाइट', 'रकें'], ['पहुंचनीय', 'आसंधि', 'नोड', 'चुनते', 'समय', 'हाइलाइट', 'बक्से', 'अवधि'], ['सीमांत', 'बोर्डर', 'रंग', 'हाइलाइट'], ['हाइलाइट', 'किए', 'गए', 'सीमांत', 'रंग', 'अपारदर्शिता।'], ['भराई', 'रंग', 'हाइलाइट'], ['हाइलाइट', 'भराई', 'रंग', 'पारदर्शिता।'], ['एपीआई', 'विचरक'], ['समय', 'प्राप्त', 'उसकी', 'विभिन्न', 'विधियों', 'मेथड', 'विचरण'], ['निजी', 'गुणों', 'छिपाएं'], ['विधि'], ['गुणधर्म'], ['मान'], ['आईपाइथन', 'कन्सोल'], ['समय', 'चुने', 'गए', 'एक्सेसेबेल', 'काम', 'लेने', 'अंतर्क्रियात्मक', 'कन्सोल'], ['घटना', 'मानिटर'], ['घटनाओं', 'मानिटर', '_'], ['चुनाव', 'हटाएं', '_'], [], ['चुने', 'गए', 'अनुप्रयोग'], ['चुने', 'गए', 'एक्सेसेबेल'], ['स्रोत'], ['घटना', 'मानिटर'], ['चुने', 'गए', 'प्रकारों', 'स्रोतों', 'घटनाएं', 'घटित', 'दर्शाता'], ['अंतिम', 'प्रविष्ट', 'घटना', 'हाइलाइट', 'करो'], ['घटना', 'रेकोर्डिंग', 'शुरू', 'करो', 'रोको'], ['घटना', 'रोजनामचा', 'मिटाओ'], ['विवरण']], [['give', 'application', 'accessibility', 'workout'], ['accerciser', 'accessibility', 'explorer'], ['the', 'default', 'plugin', 'layout', 'bottom', 'panel'], ['the', 'default', 'plugin', 'layout', 'top', 'panel'], ['a', 'list', 'plugins', 'disabled', 'default'], ['highlight', 'duration'], ['the', 'duration', 'highlight', 'box', 'selecting', 'accessible', 'nodes'], ['highlight', 'border', 'color'], ['the', 'color', 'opacity', 'highlight', 'border'], ['highlight', 'fill', 'color'], ['the', 'color', 'opacity', 'highlight', 'fill'], ['api', 'browser'], ['browse', 'various', 'methods', 'current', 'accessible'], ['hide', 'private', 'attributes'], ['method'], ['property'], ['value'], ['ipython', 'console'], ['interactive', 'console', 'manipulating', 'currently', 'selected', 'accessible'], ['event', 'monitor'], ['_', 'monitor', 'events'], ['c', '_', 'lear', 'selection'], ['everything'], ['selected', 'application'], ['selected', 'accessible'], ['source'], ['event', 'monitor'], ['shows', 'events', 'occur', 'selected', 'types', 'sources'], ['highlight', 'last', 'event', 'entry'], ['start', 'stop', 'event', 'recording'], ['clear', 'event', 'log'], ['description']])\n"
     ]
    }
   ],
   "source": [
    "for batch in data_loader:\n",
    "    print(preprocess_batch(batch))\n",
    "    break"
   ]
  },
  {
   "cell_type": "code",
   "execution_count": 713,
   "id": "d1d4a602-d69a-479b-8324-8d0dc4c1f755",
   "metadata": {},
   "outputs": [],
   "source": [
    "from collections import defaultdict\n",
    "from torch.utils.data import DataLoader\n",
    "\n",
    "# Special tokens\n",
    "unk_token = '<unk>'\n",
    "pad_token = '<pad>'\n",
    "eos_token = '<EOS>'\n",
    "\n",
    "# Function to create vocabulary\n",
    "def create_vocab(data_loader):\n",
    "    # Initialize vocabularies for both source and target languages\n",
    "    vocab = {\n",
    "        'src': {unk_token: 0, pad_token: 1, eos_token: 2},\n",
    "        'tar': {unk_token: 0, pad_token: 1, eos_token: 2}\n",
    "    }\n",
    "    index_src = 3  # Start indexing from 3 (after <unk>, <pad>, <EOS>)\n",
    "    index_tar = 3  # Start for target language\n",
    "\n",
    "    # Iterate over the data loader\n",
    "    for batch in data_loader:\n",
    "        src, tar = preprocess_batch(batch)  # Assuming this returns tokenized src and tar sentences\n",
    "        \n",
    "        # Process source language tokens\n",
    "        for sentence in src:\n",
    "            for word in sentence:\n",
    "                if word not in vocab['tar']:\n",
    "                    vocab['tar'][word] = index_src\n",
    "                    index_src += 1\n",
    "\n",
    "        # Process target language tokens\n",
    "        for sentence in tar:\n",
    "            for word in sentence:\n",
    "                if word not in vocab['src']:\n",
    "                    vocab['src'][word] = index_tar\n",
    "                    index_tar += 1\n",
    "\n",
    "    return vocab\n",
    "\n",
    "# Example usage of the create_vocab function\n",
    "# Assuming `dataset` is a custom dataset that has been preprocessed\n",
    "# data_loader = DataLoader(dataset, batch_size=32, num_workers=4)\n",
    "\n",
    "# Create vocabularies for source and target languages\n",
    "vocab = create_vocab(data_loader)\n"
   ]
  },
  {
   "cell_type": "code",
   "execution_count": 10,
   "id": "bdadfd77-6566-4a8a-8d8a-ac5dd8bab96d",
   "metadata": {},
   "outputs": [],
   "source": [
    "# vocab['tar']['विस्तार']"
   ]
  },
  {
   "cell_type": "code",
   "execution_count": 11,
   "id": "ef35a47f-f3d8-42bf-9f07-83a5e2f0d809",
   "metadata": {},
   "outputs": [],
   "source": [
    "# vocab['src'].get(\"call\", vocab['src']['<unk>'])"
   ]
  },
  {
   "cell_type": "markdown",
   "id": "3291d270-66b0-4cd2-a15d-ab0357b18d8a",
   "metadata": {},
   "source": [
    "## Prepeare data for Traning"
   ]
  },
  {
   "cell_type": "code",
   "execution_count": 893,
   "id": "3bb2af9a-b6ab-4a7b-be80-9f2b952de626",
   "metadata": {},
   "outputs": [
    {
     "name": "stdout",
     "output_type": "stream",
     "text": [
      "Source input IDs shape: torch.Size([1000, 7])\n",
      "Source attention masks shape: torch.Size([1000, 7])\n",
      "Target input IDs shape: torch.Size([1000, 7])\n",
      "Target attention masks shape: torch.Size([1000, 7])\n"
     ]
    }
   ],
   "source": [
    " # Define maximum sequence length (can be adjusted or computed dynamically)\n",
    "max_len = 7\n",
    "\n",
    "# Lists to hold the padded input IDs and attention masks\n",
    "input_ids_src = []\n",
    "attention_masks_src = []\n",
    "input_ids_tar = []\n",
    "attention_masks_tar = []\n",
    "\n",
    "for batch in data_loader:\n",
    "    # Extract the source (English) and target (Hindi) text from the batch\n",
    "    hi_text, en_text = preprocess_batch(batch)\n",
    "    # Process the source (English) text\n",
    "    for text in en_text:\n",
    "        # Tokenize the text (convert words to indices using vocab_en)\n",
    "        tokens = [vocab['src'].get(word, vocab['src']['<unk>']) for word in text]\n",
    "        \n",
    "        # Pad the tokens to max_len\n",
    "        padded_tokens = tokens[:max_len] + [vocab['src']['<pad>']] * (max_len - len(tokens))\n",
    "        \n",
    "        # Create the attention mask (1 for real tokens, 0 for padding)\n",
    "        attention_mask = [1 if token != vocab['src']['<pad>'] else 0 for token in padded_tokens]\n",
    "        \n",
    "        # Append the padded tokens and attention mask to the lists\n",
    "        input_ids_src.append(padded_tokens)\n",
    "        attention_masks_src.append(attention_mask)\n",
    "\n",
    "    # Process the target (Hindi) text\n",
    "    for text in hi_text:\n",
    "        # Tokenize the text (convert words to indices using vocab_hi)\n",
    "        tokens = [vocab['tar'].get(word, vocab['tar']['<unk>']) for word in text]\n",
    "        \n",
    "        # Pad the tokens to max_len\n",
    "        padded_tokens = tokens[:max_len] + [vocab['tar']['<pad>']] * (max_len - len(tokens))\n",
    "        \n",
    "        # Create the attention mask (1 for real tokens, 0 for padding)\n",
    "        attention_mask = [1 if token != vocab['tar']['<pad>'] else 0 for token in padded_tokens]\n",
    "        \n",
    "        # Append the padded tokens and attention mask to the lists\n",
    "        input_ids_tar.append(padded_tokens)\n",
    "        attention_masks_tar.append(attention_mask)\n",
    "\n",
    "# Convert the lists to tensors\n",
    "input_ids_src = torch.tensor(input_ids_src)\n",
    "attention_masks_src = torch.tensor(attention_masks_src)\n",
    "input_ids_tar = torch.tensor(input_ids_tar)\n",
    "attention_masks_tar = torch.tensor(attention_masks_tar)\n",
    "\n",
    "# Output the shapes for verification\n",
    "print(\"Source input IDs shape:\", input_ids_src.shape)\n",
    "print(\"Source attention masks shape:\", attention_masks_src.shape)\n",
    "print(\"Target input IDs shape:\", input_ids_tar.shape)\n",
    "print(\"Target attention masks shape:\", attention_masks_tar.shape)\n"
   ]
  },
  {
   "cell_type": "code",
   "execution_count": 57,
   "id": "5f4ee6f4-bfc7-4b28-b289-9e6918a9cc15",
   "metadata": {},
   "outputs": [],
   "source": [
    "np.save('vocab_attention', vocab)\n",
    "np.save('input_src', input_ids_src)\n",
    "np.save('input_tar', input_ids_tar)"
   ]
  },
  {
   "cell_type": "markdown",
   "id": "34dc2a20-90aa-4935-90ce-6c63bc6a7d13",
   "metadata": {},
   "source": [
    "## Defining models Addition Model"
   ]
  },
  {
   "cell_type": "code",
   "execution_count": 1158,
   "id": "8d221db5-d79a-49c6-8b13-0bd96d52f6a7",
   "metadata": {},
   "outputs": [],
   "source": [
    "class Seq2SeqPackedAttention(nn.Module):\n",
    "    def __init__(self, encoder, decoder, src_pad_idx, device, additive):\n",
    "        super().__init__()\n",
    "        self.encoder = encoder\n",
    "        self.decoder = decoder\n",
    "        self.src_pad_idx = src_pad_idx\n",
    "        self.device  = device\n",
    "        self.additive = additive\n",
    "    def create_mask(self, src):\n",
    "        #src: [src len, batch_size]\n",
    "        mask = torch.isin(src, torch.tensor(self.src_pad_idx))\n",
    "        mask = mask.permute(1, 0)  #permute so that it's the same shape as attention\n",
    "        #mask: [batch_size, src len] #(0, 0, 0, 0, 0, 1, 1)\n",
    "        return mask\n",
    "        \n",
    "    def forward(self, src, src_len, trg, teacher_forcing_ratio = 0):\n",
    "        #src: [src len, batch_size]\n",
    "        #trg: [trg len, batch_size]\n",
    "        \n",
    "        #initialize something\n",
    "        batch_size = src.shape[1]\n",
    "        trg_len    = trg.shape[0]\n",
    "        trg_vocab_size = self.decoder.output_dim\n",
    "        \n",
    "        outputs    = torch.zeros(trg_len, batch_size, trg_vocab_size).to(self.device)\n",
    "        attentions = torch.zeros(trg_len, batch_size, src.shape[0]).to(self.device)\n",
    "        \n",
    "        #send our src text into encoder\n",
    "        encoder_outputs, hidden = self.encoder(src)\n",
    "        #encoder_outputs refer to all hidden states (last layer)\n",
    "        #hidden refer to the last hidden state (of each layer, of each direction)\n",
    "        \n",
    "        input_ = trg[0, :]\n",
    "        \n",
    "        mask   = self.create_mask(src) #(0, 0, 0, 0, 0, 1, 1)\n",
    "        \n",
    "        #for each of the input of the trg text\n",
    "        for t in range(1, trg_len):\n",
    "            #send them to the decoder\n",
    "            output, hidden, attention = self.decoder(input_, hidden, encoder_outputs, mask)\n",
    "            #output: [batch_size, output_dim] ==> predictions\n",
    "            #hidden: [batch_size, hid_dim]\n",
    "            #attention: [batch_size, src len]\n",
    "            \n",
    "            #append the output to a list\n",
    "            outputs[t] = output\n",
    "            attentions[t] = attention\n",
    "            \n",
    "            teacher_force = random.random() < teacher_forcing_ratio\n",
    "            top1          = output.argmax(1)  #autoregressive\n",
    "            \n",
    "            input_ = trg[t] if teacher_force else top1\n",
    "            \n",
    "        return outputs, attentions\n"
   ]
  },
  {
   "cell_type": "code",
   "execution_count": 1159,
   "id": "a9486b8a-25f6-4a46-8fca-ffdea35356c4",
   "metadata": {},
   "outputs": [],
   "source": [
    "class Encoder(nn.Module):\n",
    "    def __init__(self, input_dim, emb_dim, hid_dim, dropout):\n",
    "        super().__init__()\n",
    "        self.embedding = nn.Embedding(input_dim, emb_dim)\n",
    "        self.rnn = nn.GRU(emb_dim, hid_dim, bidirectional=True)\n",
    "        self.fc = nn.Linear(hid_dim * 2, hid_dim)\n",
    "        self.dropout = nn.Dropout(dropout)\n",
    "\n",
    "    def forward(self, src):\n",
    "        # Embedding the input sequence\n",
    "        embedded = self.dropout(self.embedding(src))  # [src_len, batch_size, emb_dim]\n",
    "\n",
    "        # Pass the embedded sequence through the GRU\n",
    "        outputs, hidden = self.rnn(embedded)  # [src_len, batch_size, hid_dim * 2]\n",
    "\n",
    "        # We concatenate the last hidden states from both forward and backward directions\n",
    "        hidden = torch.tanh(self.fc(torch.cat((hidden[-2, :, :], hidden[-1, :, :]), dim=1)))  # [batch_size, hid_dim]\n",
    "\n",
    "        return outputs, hidden\n",
    "\n",
    "\n"
   ]
  },
  {
   "cell_type": "code",
   "execution_count": 1160,
   "id": "1dab23d3-c9ef-4f7d-9bed-7e1c8f600138",
   "metadata": {},
   "outputs": [],
   "source": [
    "class Attention(nn.Module):\n",
    "    def __init__(self, hid_dim):\n",
    "        super().__init__()\n",
    "        self.v = nn.Linear(hid_dim, 1, bias = False)\n",
    "        self.W = nn.Linear(hid_dim, hid_dim) #for decoder input_\n",
    "        self.U = nn.Linear(hid_dim * 2, hid_dim)  #for encoder_outputs\n",
    "\n",
    "    \n",
    "    def forward(self, hidden, encoder_outputs, mask):\n",
    "        #hidden = [batch_size, hid_dim] ==> first hidden is basically the last hidden of the encoder\n",
    "        #encoder_outputs = [src len, batch_size, hid_dim * 2]\n",
    "        \n",
    "        batch_size = encoder_outputs.shape[1]\n",
    "        src_len    = encoder_outputs.shape[0]\n",
    "        \n",
    "        #repeat the hidden src len times\n",
    "        hidden = hidden.unsqueeze(1).repeat(1, src_len, 1)\n",
    "        #hidden = [batch_size, src_len, hid_dim]\n",
    "        \n",
    "        #permute the encoder_outputs just so that you can perform multiplication / addition\n",
    "        encoder_outputs = encoder_outputs.permute(1, 0, 2)\n",
    "        #encoder_outputs = [batch_size, src_len, hid_dim * 2]\n",
    "        \n",
    "        #add\n",
    "        energy = self.v(torch.tanh(self.W(hidden) + self.U(encoder_outputs))).squeeze(2)\n",
    "        #(batch_size, src len, 1) ==> (batch_size, src len)\n",
    "        \n",
    "        #mask\n",
    "        energy = energy.masked_fill(mask, -1e10)\n",
    "        \n",
    "        return torch.nn.functional.softmax(energy, dim = 1)\n"
   ]
  },
  {
   "cell_type": "code",
   "execution_count": 1161,
   "id": "4c5951dd-dd22-4fc8-b911-bb95a09fa619",
   "metadata": {},
   "outputs": [],
   "source": [
    "class Decoder(nn.Module):\n",
    "    def __init__(self, output_dim, emb_dim, hid_dim, dropout, attention):\n",
    "        super().__init__()\n",
    "        self.output_dim = output_dim\n",
    "        self.attention  = attention\n",
    "        self.embedding  = nn.Embedding(output_dim, emb_dim)\n",
    "        self.rnn        = nn.GRU((hid_dim * 2) + emb_dim, hid_dim)\n",
    "        self.fc         = nn.Linear((hid_dim * 2) + hid_dim + emb_dim, output_dim)\n",
    "        self.dropout    = nn.Dropout(dropout)\n",
    "\n",
    "    def forward(self, input, hidden, encoder_outputs, mask):\n",
    "        # input: [batch_size]\n",
    "        # hidden: [batch_size, hid_dim]\n",
    "        # encoder_outputs: [src_len, batch_size, hid_dim * 2]\n",
    "        # mask: [batch_size, src_len] (mask for padded tokens)\n",
    "        \n",
    "        # Embed our input\n",
    "        input = input.unsqueeze(0)  # [1, batch_size]\n",
    "        embedded = self.dropout(self.embedding(input))  # [1, batch_size, emb_dim]\n",
    "        \n",
    "        # Apply attention mechanism, considering padding\n",
    "        a = self.attention(hidden, encoder_outputs, mask)  # Attention weights: [batch_size, src_len]\n",
    "        att = a.unsqueeze(1)  # [batch_size, 1, src_len]\n",
    "        \n",
    "        # Permute encoder outputs to [batch_size, src_len, hid_dim * 2]\n",
    "        encoder_outputs = encoder_outputs.permute(1, 0, 2)  # [batch_size, src_len, hid_dim * 2]\n",
    "        \n",
    "        # Calculate weighted sum of encoder outputs based on attention weights\n",
    "        weighted = torch.bmm(att, encoder_outputs)  # [batch_size, 1, hid_dim * 2]\n",
    "        weighted = weighted.permute(1, 0, 2)  # [1, batch_size, hid_dim * 2]\n",
    "        \n",
    "        # Concatenate embedded input and weighted encoder outputs\n",
    "        rnn_input = torch.cat((embedded, weighted), dim=2)  # [1, batch_size, emb_dim + hid_dim * 2]\n",
    "        \n",
    "        # Send input to the GRU\n",
    "        output, hidden = self.rnn(rnn_input, hidden.unsqueeze(0))  # [1, batch_size, hid_dim]\n",
    "        \n",
    "        # Squeeze the outputs from the GRU and weighted sum\n",
    "        embedded = embedded.squeeze(0)  # [batch_size, emb_dim]\n",
    "        output = output.squeeze(0)  # [batch_size, hid_dim]\n",
    "        weighted = weighted.squeeze(0)  # [batch_size, hid_dim * 2]\n",
    "        \n",
    "        # Apply the fully connected layer to predict the next token\n",
    "        prediction = self.fc(torch.cat((embedded, output, weighted), dim=1))  # [batch_size, output_dim]\n",
    "        \n",
    "        return prediction, hidden.squeeze(0), a.squeeze(1)\n"
   ]
  },
  {
   "cell_type": "code",
   "execution_count": 1038,
   "id": "d00b984c-fee3-4fec-8792-b5eed1132479",
   "metadata": {},
   "outputs": [],
   "source": [
    "# class Decoder(nn.Module):\n",
    "#     def __init__(self, output_dim, emb_dim, hid_dim, dropout, attention):\n",
    "#         super().__init__()\n",
    "#         self.output_dim = output_dim\n",
    "#         self.attention = attention  # The attention mechanism\n",
    "#         self.embedding = nn.Embedding(output_dim, emb_dim)\n",
    "#         self.rnn = nn.GRU(1280, hid_dim)  # GRU expects input size of 1280\n",
    "#         self.fc = nn.Linear(3 * hid_dim * 2, output_dim)  # Adjusted fc layer size\n",
    "#         self.dropout = nn.Dropout(dropout)\n",
    "        \n",
    "#         # Linear layer to project `embedding` to match the feature size of `weighted`\n",
    "#         self.embedding_projection = nn.Linear(emb_dim, hid_dim * 2)  # Project embedded to hid_dim * 2\n",
    "        \n",
    "#         # Linear layer to match the expected input size for the GRU\n",
    "#         self.input_projection = nn.Linear((hid_dim * 2) + (hid_dim * 2), 1280)  # Adjust the input size to 1280\n",
    "        \n",
    "#         # Additional Linear layer to project `output` to the same size as `embedded` and `weighted`\n",
    "#         self.output_projection = nn.Linear(hid_dim, hid_dim * 2)  # Project output to hid_dim * 2\n",
    "\n",
    "#     def forward(self, input, hidden, encoder_outputs):\n",
    "#         # input: [batch_size]\n",
    "#         # hidden: [batch_size, hid_dim]\n",
    "#         # encoder_outputs: [src_len, batch_size, hid_dim * 2]\n",
    "#         # mask: [batch_size, src_len]  (for padded tokens)\n",
    "        \n",
    "#         input = input.unsqueeze(0)  # Shape: [1, batch_size]\n",
    "#         embedded = self.dropout(self.embedding(input))  # Shape: [1, batch_size, emb_dim]\n",
    "        \n",
    "#         # Project the embedded input to match the size of weighted (hid_dim * 2)\n",
    "#         embedded = self.embedding_projection(embedded)  # Shape: [1, batch_size, hid_dim * 2]\n",
    "        \n",
    "#         # Calculate the attention weights using the attention mechanism (Multiplicative or Additive)\n",
    "    \n",
    "#         a = self.attention(hidden, encoder_outputs)  # For additive attention\n",
    "        \n",
    "#         a = a.unsqueeze(1)  # Shape: [batch_size, 1, src_len]\n",
    "#         # Permute encoder_outputs to [batch_size, src_len, hid_dim * 2]\n",
    "#         encoder_outputs = encoder_outputs.permute(1, 0, 2)  # Shape: [batch_size, src_len, hid_dim * 2]\n",
    "\n",
    "#         # Calculate the weighted sum of encoder outputs using attention weights\n",
    "#         weighted = torch.bmm(a, encoder_outputs)  # Shape: [batch_size, 1, hid_dim * 2]\n",
    "#         weighted = weighted.permute(1, 0, 2)  # Shape: [1, batch_size, hid_dim * 2]\n",
    "        \n",
    "#         # Concatenate the projected `embedded` input with the weighted encoder outputs\n",
    "#         embedded = embedded.expand(weighted.size(0), -1, -1)  # Expand along batch dimension\n",
    "        \n",
    "#         rnn_input = torch.cat((embedded, weighted), dim=2)  # Shape: [1, batch_size, hid_dim * 2 + hid_dim * 2]\n",
    "        \n",
    "#         # Use the linear layer to match the expected input size for the GRU\n",
    "#         rnn_input = self.input_projection(rnn_input)  # Shape: [1, batch_size, 1280]\n",
    "        \n",
    "#         # Pass through GRU (decoder RNN)\n",
    "#         output, hidden = self.rnn(rnn_input, hidden.unsqueeze(0))  # Shape: [1, batch_size, hid_dim]\n",
    "        \n",
    "#         # Project the `output` to match the size of `embedded` and `weighted` (hid_dim * 2)\n",
    "#         output = self.output_projection(output)  # Shape: [batch_size, hid_dim * 2]\n",
    "        \n",
    "#         # Check the shapes of tensors before concatenation\n",
    "#         # print(\"Embedded shape:\", embedded.shape)  # [batch_size, hid_dim * 2]\n",
    "#         # print(\"Output shape:\", output.shape)  # [batch_size, hid_dim * 2]\n",
    "#         # print(\"Weighted shape:\", weighted.shape)  # [batch_size, hid_dim * 2]\n",
    "        \n",
    "#         # Output from GRU should be passed to fully connected layer\n",
    "#         embedded = embedded.squeeze(0)  # Shape: [batch_size, hid_dim * 2]\n",
    "#         output = output.squeeze(0)  # Shape: [batch_size, hid_dim * 2]\n",
    "#         weighted = weighted.squeeze(0)  # Shape: [batch_size, hid_dim * 2]\n",
    "        \n",
    "#         # Final prediction (output)\n",
    "#         prediction = self.fc(torch.cat((embedded, output, weighted), dim=1))  # Shape: [batch_size, output_dim]\n",
    "        \n",
    "#         return prediction, hidden.squeeze(0), a.squeeze(1)  # Return the prediction and updated hidden state\n",
    "\n"
   ]
  },
  {
   "cell_type": "code",
   "execution_count": 906,
   "id": "95997b23-ea1e-48e4-b48b-05f5bf2a2d61",
   "metadata": {},
   "outputs": [],
   "source": [
    "def initialize_weights(m):\n",
    "    for name, param in m.named_parameters():\n",
    "        if 'weight' in name:\n",
    "            nn.init.normal_(param.data, mean=0, std=0.01)\n",
    "        else:\n",
    "            nn.init.constant_(param.data, 0)"
   ]
  },
  {
   "cell_type": "code",
   "execution_count": 1162,
   "id": "234f486c-84fa-49c0-a246-eb9f08df4737",
   "metadata": {},
   "outputs": [
    {
     "data": {
      "text/plain": [
       "Seq2SeqPackedAttention(\n",
       "  (encoder): Encoder(\n",
       "    (embedding): Embedding(281, 300)\n",
       "    (rnn): GRU(300, 540, bidirectional=True)\n",
       "    (fc): Linear(in_features=1080, out_features=540, bias=True)\n",
       "    (dropout): Dropout(p=0.3, inplace=False)\n",
       "  )\n",
       "  (decoder): Decoder(\n",
       "    (attention): Attention(\n",
       "      (v): Linear(in_features=540, out_features=1, bias=False)\n",
       "      (W): Linear(in_features=540, out_features=540, bias=True)\n",
       "      (U): Linear(in_features=1080, out_features=540, bias=True)\n",
       "    )\n",
       "    (embedding): Embedding(305, 300)\n",
       "    (rnn): GRU(1380, 540)\n",
       "    (fc): Linear(in_features=1920, out_features=305, bias=True)\n",
       "    (dropout): Dropout(p=0.3, inplace=False)\n",
       "  )\n",
       ")"
      ]
     },
     "execution_count": 1162,
     "metadata": {},
     "output_type": "execute_result"
    }
   ],
   "source": [
    "input_dim   = len(vocab['src'])\n",
    "output_dim  = len(vocab['tar'])\n",
    "emb_dim     = 300  \n",
    "hid_dim     =  540\n",
    "dropout     = 0.3\n",
    "SRC_PAD_IDX = [0,1,2]\n",
    "query_hidden_size = 1200  # Hidden state size\n",
    "key_hidden_size = 1240    # Key size (same as query size in this case)\n",
    "batch_size = 32          # Batch size\n",
    "seq_len = 8\n",
    "attention = Attention(hid_dim)\n",
    "enc  = Encoder(input_dim,  emb_dim,  hid_dim,dropout=dropout)\n",
    "dec  = Decoder(output_dim, emb_dim,  hid_dim, dropout, attention)\n",
    "device = \"cpu\"\n",
    "model = Seq2SeqPackedAttention(enc, dec,SRC_PAD_IDX, device, additive=True).to(device)\n",
    "model\n"
   ]
  },
  {
   "cell_type": "code",
   "execution_count": 1163,
   "id": "80f076af-7e42-4bd4-837b-63812f490d59",
   "metadata": {},
   "outputs": [
    {
     "name": "stdout",
     "output_type": "stream",
     "text": [
      " 84300\n",
      "486000\n",
      "874800\n",
      "  1620\n",
      "  1620\n",
      "486000\n",
      "874800\n",
      "  1620\n",
      "  1620\n",
      "583200\n",
      "   540\n",
      "   540\n",
      "291600\n",
      "   540\n",
      "583200\n",
      "   540\n",
      " 91500\n",
      "2235600\n",
      "874800\n",
      "  1620\n",
      "  1620\n",
      "585600\n",
      "   305\n",
      "______\n",
      "8063585\n"
     ]
    }
   ],
   "source": [
    "#we can print the complexity by the number of parameters\n",
    "def count_parameters(model):\n",
    "    params = [p.numel() for p in model.parameters() if p.requires_grad]\n",
    "    for item in params:\n",
    "        print(f'{item:>6}')\n",
    "    print(f'______\\n{sum(params):>6}')\n",
    "    \n",
    "count_parameters(model)"
   ]
  },
  {
   "cell_type": "code",
   "execution_count": 1164,
   "id": "5ca5b747-cb40-4ce9-94d8-8e344b52622b",
   "metadata": {},
   "outputs": [],
   "source": [
    "import torch.optim as optim\n",
    "\n",
    "lr = 0.001\n",
    "\n",
    "#training hyperparameters\n",
    "optimizer = optim.Adam(model.parameters(), lr=lr)\n",
    "criterion = nn.CrossEntropyLoss(ignore_index = 0) #combine softmax with cross entropy\n"
   ]
  },
  {
   "cell_type": "code",
   "execution_count": 1165,
   "id": "760a3c45-a1e6-4917-893f-e819ec1520b2",
   "metadata": {},
   "outputs": [],
   "source": [
    "def train(model, loader, optimizer, criterion, clip, loader_length):\n",
    "    \n",
    "    model.train()\n",
    "    epoch_loss = 0\n",
    "    src_length = 8\n",
    "    IGNORE_TOKENS = [0, 1, 2]\n",
    "\n",
    "    for src, trg in loader:\n",
    "        \n",
    "        src = src.to(device)\n",
    "        trg = trg.to(device)\n",
    "        \n",
    "        optimizer.zero_grad()\n",
    "        \n",
    "        output, attentions = model(src, src_length, trg)\n",
    "        #trg    = [trg len, batch size]\n",
    "        #output = [trg len, batch size, output dim]\n",
    "        output_dim = output.shape[-1]\n",
    "        \n",
    "        #the loss function only works on 2d inputs with 1d targets thus we need to flatten each of them\n",
    "        output = output[1:].view(-1, output_dim)\n",
    "        trg    = trg[1:].view(-1)\n",
    "        #trg    = [(trg len - 1) * batch size]\n",
    "        #output = [(trg len - 1) * batch size, output dim]\n",
    "        mask = ~torch.isin(trg, torch.tensor(IGNORE_TOKENS)).bool()\n",
    "\n",
    "        loss = criterion(output, trg)\n",
    "        loss.backward()\n",
    "        \n",
    "        \n",
    "        #clip the gradients to prevent them from exploding (a common issue in RNNs)\n",
    "        torch.nn.utils.clip_grad_norm_(model.parameters(), clip)\n",
    "        \n",
    "        optimizer.step()\n",
    "        \n",
    "        epoch_loss += loss.item()\n",
    "        \n",
    "    return epoch_loss / loader_length"
   ]
  },
  {
   "cell_type": "code",
   "execution_count": 1166,
   "id": "2df35e20-45cc-48e7-83ae-6c92d4186288",
   "metadata": {},
   "outputs": [
    {
     "name": "stdout",
     "output_type": "stream",
     "text": [
      "Train loader length: 22\n",
      "Validation loader length: 7\n",
      "Test loader length: 4\n"
     ]
    }
   ],
   "source": [
    "import torch\n",
    "from torch.utils.data import DataLoader, Dataset, Subset\n",
    "import random\n",
    "\n",
    "# Define your CustomDataset\n",
    "class CustomDataset(Dataset):\n",
    "    def __init__(self, src_data, trg_data):\n",
    "        self.src_data = src_data\n",
    "        self.trg_data = trg_data\n",
    "    \n",
    "    def __len__(self):\n",
    "        return len(self.src_data)\n",
    "    \n",
    "    def __getitem__(self, idx):\n",
    "        src = self.src_data[idx]\n",
    "        trg = self.trg_data[idx]\n",
    "        return src, trg\n",
    "\n",
    "trainloader = CustomDataset(input_ids_src, input_ids_tar)\n",
    "\n",
    "train_size = int(0.7 * len(trainloader))  # 80% for training\n",
    "val_size = int(0.2 * len(trainloader))    # 10% for validation\n",
    "test_size = len(trainloader) - train_size - val_size  # Remaining 10% for testing\n",
    "\n",
    "indices = list(range(len(trainloader)))\n",
    "random.shuffle(indices)\n",
    "\n",
    "train_indices = indices[:train_size]\n",
    "val_indices = indices[train_size:train_size + val_size]\n",
    "test_indices = indices[train_size + val_size:]\n",
    "\n",
    "train_subset = Subset(trainloader, train_indices)\n",
    "val_subset = Subset(trainloader, val_indices)\n",
    "test_subset = Subset(trainloader, test_indices)\n",
    "\n",
    "train_loader = DataLoader(train_subset, batch_size=32, shuffle=True, num_workers=4)\n",
    "valid_loader = DataLoader(val_subset, batch_size=32, shuffle=False, num_workers=4)\n",
    "test_loader  = DataLoader(test_subset, batch_size=32, shuffle=False, num_workers=4)\n",
    "\n",
    "train_loader_length = len(train_loader)\n",
    "val_loader_length   = len(valid_loader)\n",
    "test_loader_length  = len(test_loader)\n",
    "\n",
    "print(f\"Train loader length: {train_loader_length}\")\n",
    "print(f\"Validation loader length: {val_loader_length}\")\n",
    "print(f\"Test loader length: {test_loader_length}\")\n",
    "\n",
    "\n",
    "def epoch_time(start_time, end_time):\n",
    "    elapsed_time = end_time - start_time\n",
    "    elapsed_mins = int(elapsed_time / 60)\n",
    "    elapsed_secs = int(elapsed_time - (elapsed_mins * 60))\n",
    "    return elapsed_mins, elapsed_secs"
   ]
  },
  {
   "cell_type": "code",
   "execution_count": 1167,
   "id": "2417b63e-6e7a-4427-837b-3098c3b5a6e5",
   "metadata": {},
   "outputs": [],
   "source": [
    "import gc\n",
    "def evaluate(model, loader, criterion, loader_length, model_type):\n",
    "        \n",
    "    #turn off dropout (and batch norm if used)\n",
    "    model.eval()\n",
    "    src_len = 7\n",
    "    epoch_loss = 0\n",
    "    IGNORE_TOKENS = [0, 1, 2]\n",
    "\n",
    "    with torch.no_grad():\n",
    "    \n",
    "        for src, trg in loader:\n",
    "        \n",
    "            src = src.to(device)\n",
    "            trg = trg.to(device)\n",
    "            if model_type == \"additive\":\n",
    "                output, attentions = model(src,seq_len, trg, 0) #turn off teacher forcing\n",
    "            elif model_type == \"mul\":\n",
    "                output, attentions =model(src, trg, 0) \n",
    "\n",
    "            #trg    = [trg len, batch size]\n",
    "            #output = [trg len, batch size, output dim]\n",
    "\n",
    "            output_dim = output.shape[-1]\n",
    "            \n",
    "            output = output[1:].view(-1, output_dim)\n",
    "            trg = trg[1:].view(-1)\n",
    "            mask = ~torch.isin(trg, torch.tensor(IGNORE_TOKENS)).bool()\n",
    "            \n",
    "            loss = criterion(output, trg)\n",
    "            # loss = loss * mask.float()\n",
    "            # loss = loss.sum() / mask.sum()\n",
    "            #trg    = [(trg len - 1) * batch size]\n",
    "            #output = [(trg len - 1) * batch size, output dim            \n",
    "            epoch_loss += loss\n",
    "            gc.collect()\n",
    "\n",
    "        \n",
    "    return epoch_loss / loader_length"
   ]
  },
  {
   "cell_type": "code",
   "execution_count": null,
   "id": "0a9c662b-ba40-49f5-bac3-0bd60b89fb48",
   "metadata": {},
   "outputs": [],
   "source": []
  },
  {
   "cell_type": "code",
   "execution_count": 1069,
   "id": "93d4850b-ff39-4d9e-9d7a-68a1f3ca0e23",
   "metadata": {},
   "outputs": [
    {
     "name": "stderr",
     "output_type": "stream",
     "text": [
      " 20%|██        | 1/5 [00:39<02:36, 39.00s/it]"
     ]
    },
    {
     "name": "stdout",
     "output_type": "stream",
     "text": [
      "Epoch: 01 | Time: 0m 37s\n",
      "\tTrain Loss: 2.011 | Train PPL:   7.474\n",
      "\t Val. Loss: 2.027 |  Val. PPL:   7.593\n"
     ]
    },
    {
     "name": "stderr",
     "output_type": "stream",
     "text": [
      " 40%|████      | 2/5 [01:17<01:56, 38.78s/it]"
     ]
    },
    {
     "name": "stdout",
     "output_type": "stream",
     "text": [
      "Epoch: 02 | Time: 0m 37s\n",
      "\tTrain Loss: 1.963 | Train PPL:   7.121\n",
      "\t Val. Loss: 2.073 |  Val. PPL:   7.951\n"
     ]
    },
    {
     "name": "stderr",
     "output_type": "stream",
     "text": [
      " 60%|██████    | 3/5 [01:58<01:19, 39.63s/it]"
     ]
    },
    {
     "name": "stdout",
     "output_type": "stream",
     "text": [
      "Epoch: 03 | Time: 0m 39s\n",
      "\tTrain Loss: 1.974 | Train PPL:   7.200\n",
      "\t Val. Loss: 2.028 |  Val. PPL:   7.601\n"
     ]
    },
    {
     "name": "stderr",
     "output_type": "stream",
     "text": [
      " 80%|████████  | 4/5 [02:37<00:39, 39.35s/it]"
     ]
    },
    {
     "name": "stdout",
     "output_type": "stream",
     "text": [
      "Epoch: 04 | Time: 0m 38s\n",
      "\tTrain Loss: 1.951 | Train PPL:   7.038\n",
      "\t Val. Loss: 2.042 |  Val. PPL:   7.708\n"
     ]
    },
    {
     "name": "stderr",
     "output_type": "stream",
     "text": [
      "100%|██████████| 5/5 [03:16<00:00, 39.31s/it]"
     ]
    },
    {
     "name": "stdout",
     "output_type": "stream",
     "text": [
      "Epoch: 05 | Time: 0m 38s\n",
      "\tTrain Loss: 1.974 | Train PPL:   7.198\n",
      "\t Val. Loss: 2.049 |  Val. PPL:   7.763\n"
     ]
    },
    {
     "name": "stderr",
     "output_type": "stream",
     "text": [
      "\n"
     ]
    }
   ],
   "source": [
    "import time\n",
    "import torch.functional as F \n",
    "import random \n",
    "import math\n",
    "best_valid_loss = float('inf')\n",
    "num_epochs = 5\n",
    "clip       = 1\n",
    "\n",
    "save_path = f'models/{model.__class__.__name__}.pt'\n",
    "\n",
    "train_losses = []\n",
    "valid_losses = []\n",
    "\n",
    "for epoch in tqdm(range(num_epochs)):\n",
    "    \n",
    "    start_time = time.time()\n",
    "\n",
    "    train_loss = train(model, train_loader, optimizer, criterion, clip, train_loader_length)\n",
    "    valid_loss = evaluate(model, valid_loader, criterion, val_loader_length, model_type='additive')\n",
    "    \n",
    "    #for plotting\n",
    "    train_losses.append(train_loss)\n",
    "    valid_losses.append(valid_loss)\n",
    "    \n",
    "    end_time = time.time()\n",
    "    \n",
    "    epoch_mins, epoch_secs = epoch_time(start_time, end_time)\n",
    "    gc.collect()\n",
    "    \n",
    "    if valid_loss < best_valid_loss:\n",
    "        best_valid_loss = valid_loss\n",
    "        torch.save(model.state_dict(), save_path)\n",
    "    \n",
    "    print(f'Epoch: {epoch+1:02} | Time: {epoch_mins}m {epoch_secs}s')\n",
    "    print(f'\\tTrain Loss: {train_loss:.3f} | Train PPL: {math.exp(train_loss):7.3f}')\n",
    "    print(f'\\t Val. Loss: {valid_loss:.3f} |  Val. PPL: {math.exp(valid_loss):7.3f}')"
   ]
  },
  {
   "cell_type": "markdown",
   "id": "67f28bd4-057b-4cb2-bfcb-f4955ba7b8bb",
   "metadata": {},
   "source": [
    "**Best Traning Done but i dont know if it was the best split**"
   ]
  },
  {
   "cell_type": "code",
   "execution_count": 1168,
   "id": "37bff77f-da85-448d-a4f4-490cc0c84dcc",
   "metadata": {},
   "outputs": [
    {
     "name": "stderr",
     "output_type": "stream",
     "text": [
      " 20%|██        | 1/5 [00:38<02:35, 38.79s/it]"
     ]
    },
    {
     "name": "stdout",
     "output_type": "stream",
     "text": [
      "Epoch: 01 | Time: 0m 37s\n",
      "\tTrain Loss: 2.584 | Train PPL:  13.244\n",
      "\t Val. Loss: 2.327 |  Val. PPL:  10.244\n"
     ]
    },
    {
     "name": "stderr",
     "output_type": "stream",
     "text": [
      " 40%|████      | 2/5 [01:17<01:56, 38.96s/it]"
     ]
    },
    {
     "name": "stdout",
     "output_type": "stream",
     "text": [
      "Epoch: 02 | Time: 0m 38s\n",
      "\tTrain Loss: 2.149 | Train PPL:   8.574\n",
      "\t Val. Loss: 2.218 |  Val. PPL:   9.185\n"
     ]
    },
    {
     "name": "stderr",
     "output_type": "stream",
     "text": [
      " 60%|██████    | 3/5 [01:59<01:20, 40.20s/it]"
     ]
    },
    {
     "name": "stdout",
     "output_type": "stream",
     "text": [
      "Epoch: 03 | Time: 0m 40s\n",
      "\tTrain Loss: 2.034 | Train PPL:   7.644\n",
      "\t Val. Loss: 2.204 |  Val. PPL:   9.063\n"
     ]
    },
    {
     "name": "stderr",
     "output_type": "stream",
     "text": [
      " 80%|████████  | 4/5 [02:37<00:39, 39.17s/it]"
     ]
    },
    {
     "name": "stdout",
     "output_type": "stream",
     "text": [
      "Epoch: 04 | Time: 0m 36s\n",
      "\tTrain Loss: 2.036 | Train PPL:   7.661\n",
      "\t Val. Loss: 2.174 |  Val. PPL:   8.796\n"
     ]
    },
    {
     "name": "stderr",
     "output_type": "stream",
     "text": [
      "100%|██████████| 5/5 [03:17<00:00, 39.47s/it]"
     ]
    },
    {
     "name": "stdout",
     "output_type": "stream",
     "text": [
      "Epoch: 05 | Time: 0m 38s\n",
      "\tTrain Loss: 1.962 | Train PPL:   7.114\n",
      "\t Val. Loss: 2.138 |  Val. PPL:   8.485\n"
     ]
    },
    {
     "name": "stderr",
     "output_type": "stream",
     "text": [
      "\n"
     ]
    }
   ],
   "source": [
    "import time\n",
    "import torch.functional as F \n",
    "import random \n",
    "import math\n",
    "best_valid_loss = float('inf')\n",
    "num_epochs = 5\n",
    "clip       = 1\n",
    "\n",
    "save_path = f'models/{model.__class__.__name__}.pt'\n",
    "\n",
    "train_losses = []\n",
    "valid_losses = []\n",
    "\n",
    "for epoch in tqdm(range(num_epochs)):\n",
    "    \n",
    "    start_time = time.time()\n",
    "\n",
    "    train_loss = train(model, train_loader, optimizer, criterion, clip, train_loader_length)\n",
    "    valid_loss = evaluate(model, valid_loader, criterion, val_loader_length, model_type='additive')\n",
    "    \n",
    "    #for plotting\n",
    "    train_losses.append(train_loss)\n",
    "    valid_losses.append(valid_loss)\n",
    "    \n",
    "    end_time = time.time()\n",
    "    \n",
    "    epoch_mins, epoch_secs = epoch_time(start_time, end_time)\n",
    "    gc.collect()\n",
    "    \n",
    "    if valid_loss < best_valid_loss:\n",
    "        best_valid_loss = valid_loss\n",
    "        torch.save(model.state_dict(), save_path)\n",
    "    \n",
    "    print(f'Epoch: {epoch+1:02} | Time: {epoch_mins}m {epoch_secs}s')\n",
    "    print(f'\\tTrain Loss: {train_loss:.3f} | Train PPL: {math.exp(train_loss):7.3f}')\n",
    "    print(f'\\t Val. Loss: {valid_loss:.3f} |  Val. PPL: {math.exp(valid_loss):7.3f}')"
   ]
  },
  {
   "cell_type": "code",
   "execution_count": 1070,
   "id": "8201243c-e971-454c-a729-c963c56c2f2e",
   "metadata": {},
   "outputs": [
    {
     "data": {
      "text/plain": [
       "tensor([ 9, 10, 11, 12, 13, 14,  1])"
      ]
     },
     "execution_count": 1070,
     "metadata": {},
     "output_type": "execute_result"
    }
   ],
   "source": [
    "input_ids_src[2]"
   ]
  },
  {
   "cell_type": "code",
   "execution_count": 245,
   "id": "98485016-354b-49b8-9d9a-70335f283538",
   "metadata": {},
   "outputs": [
    {
     "data": {
      "text/plain": [
       "[<matplotlib.lines.Line2D at 0x7e1ee9e00860>]"
      ]
     },
     "execution_count": 245,
     "metadata": {},
     "output_type": "execute_result"
    },
    {
     "data": {
      "image/png": "[encoded data removed]",
      "text/plain": [
       "<Figure size 640x480 with 1 Axes>"
      ]
     },
     "metadata": {},
     "output_type": "display_data"
    }
   ],
   "source": [
    "import matplotlib.pyplot as plt\n",
    "plt.plot(train_losses)\n",
    "plt.plot(valid_losses)"
   ]
  },
  {
   "cell_type": "markdown",
   "id": "7ed023ed-78b4-4162-9fad-72798c260e87",
   "metadata": {},
   "source": [
    "**The training can go more longer but let us try to infer before we try to decide**"
   ]
  },
  {
   "cell_type": "markdown",
   "id": "f64d5282-149c-4a58-9109-72a570840196",
   "metadata": {},
   "source": [
    "## Inference"
   ]
  },
  {
   "cell_type": "code",
   "execution_count": 1176,
   "id": "3353618e-dfd2-4433-912b-52af5ee308e4",
   "metadata": {},
   "outputs": [
    {
     "data": {
      "text/plain": [
       "Seq2SeqPackedAttention(\n",
       "  (encoder): Encoder(\n",
       "    (embedding): Embedding(281, 300)\n",
       "    (rnn): GRU(300, 540, bidirectional=True)\n",
       "    (fc): Linear(in_features=1080, out_features=540, bias=True)\n",
       "    (dropout): Dropout(p=0.3, inplace=False)\n",
       "  )\n",
       "  (decoder): Decoder(\n",
       "    (attention): Attention(\n",
       "      (v): Linear(in_features=540, out_features=1, bias=False)\n",
       "      (W): Linear(in_features=540, out_features=540, bias=True)\n",
       "      (U): Linear(in_features=1080, out_features=540, bias=True)\n",
       "    )\n",
       "    (embedding): Embedding(305, 300)\n",
       "    (rnn): GRU(1380, 540)\n",
       "    (fc): Linear(in_features=1920, out_features=305, bias=True)\n",
       "    (dropout): Dropout(p=0.3, inplace=False)\n",
       "  )\n",
       ")"
      ]
     },
     "execution_count": 1176,
     "metadata": {},
     "output_type": "execute_result"
    }
   ],
   "source": [
    "#select random sentences\n",
    "s = input_ids_src[43,:].unsqueeze(0)\n",
    "t = input_ids_tar[45,:]\n",
    "model.eval()  "
   ]
  },
  {
   "cell_type": "code",
   "execution_count": 1184,
   "id": "c8f686b7-8f7d-45e4-9681-f1b462b482c4",
   "metadata": {},
   "outputs": [],
   "source": [
    "#x, hidden, cell, encoder_state\n",
    "IGNORE_TOKENS = [0, 1, 2]\n",
    "encoder_state ,hidden = model.encoder(s)\n",
    "mask=model.create_mask(s)\n",
    "predictions, hidden, attention =model.decoder(t,hidden, encoder_state, mask = mask)"
   ]
  },
  {
   "cell_type": "code",
   "execution_count": 1178,
   "id": "0f30480f-eeef-4b9b-b7c6-f5a3547e341d",
   "metadata": {},
   "outputs": [
    {
     "name": "stdout",
     "output_type": "stream",
     "text": [
      "Predicted Sentence: सापेक्ष स्थिति <pad> <pad> <pad> <pad> <pad>\n",
      "Input Sentence: relative position <pad> <pad> <pad> <pad> <pad>\n"
     ]
    }
   ],
   "source": [
    "output = predictions  # Shape: [batch_size, seq_len, vocab_size]\n",
    "attention_weights = attention\n",
    "# Assuming vocab_size is 299 (as per your example)\n",
    "index_to_token_src = {i: token for i, token in enumerate(vocab['src'])}\n",
    "index_to_token = {i: token for i, token in enumerate(vocab['tar'])}\n",
    "vocab_size = len(vocab['tar'])\n",
    "output_probs = torch.softmax(output, dim=-1) \n",
    "predicted_tokens = output_probs.argmax(dim=-1)  \n",
    "predicted_sentence = [index_to_token[token.item()] for token in predicted_tokens]  # For batch_size=1, get the first sentence\n",
    "input_sentebce=[index_to_token_src[token] for token in s.squeeze(0).tolist()]  # For batch_size=1, get the first sentence\n",
    "print(\"Predicted Sentence:\", \" \".join(predicted_sentence))\n",
    "print(\"Input Sentence:\",\" \".join(input_sentebce))"
   ]
  },
  {
   "cell_type": "code",
   "execution_count": 1170,
   "id": "99a12e22-339e-418a-84ac-57a49c799372",
   "metadata": {},
   "outputs": [
    {
     "name": "stdout",
     "output_type": "stream",
     "text": [
      "Predicted Sentence: ऊपरी <pad> सहेज एकल चुनाव शिशु <pad>\n",
      "Input Sentence: border color <pad> <pad> <pad> <pad> <pad>\n"
     ]
    }
   ],
   "source": [
    "#save the model\n",
    "# torch.save(model,'model_additive3')\n",
    "# torch.save(model, 'model_additive_weights3')\n",
    "\n",
    "output = predictions  # Shape: [batch_size, seq_len, vocab_size]\n",
    "attention_weights = attention\n",
    "# Assuming vocab_size is 299 (as per your example)\n",
    "index_to_token_src = {i: token for i, token in enumerate(vocab['src'])}\n",
    "index_to_token = {i: token for i, token in enumerate(vocab['tar'])}\n",
    "vocab_size = len(vocab['tar'])\n",
    "output_probs = torch.softmax(output, dim=-1) \n",
    "predicted_tokens = output_probs.argmax(dim=-1)  \n",
    "predicted_sentence = [index_to_token[token.item()] for token in predicted_tokens]  # For batch_size=1, get the first sentence\n",
    "input_sentebce=[index_to_token_src[token] for token in s.squeeze(0).tolist()]  # For batch_size=1, get the first sentence\n",
    "print(\"Predicted Sentence:\", \" \".join(predicted_sentence))\n",
    "print(\"Input Sentence:\",\" \".join(input_sentebce))"
   ]
  },
  {
   "cell_type": "code",
   "execution_count": 1080,
   "id": "6b505eb6-a3fb-42a5-be73-6b2fc2f1c528",
   "metadata": {},
   "outputs": [
    {
     "name": "stdout",
     "output_type": "stream",
     "text": [
      "Predicted Sentence: सीमांत अवधिः <pad> <pad> <pad> <pad> <pad>\n",
      "Input Sentence: highlight duration <pad> <pad> <pad> <pad> <pad>\n"
     ]
    }
   ],
   "source": [
    "# model=torch.load('model_additive')\n",
    "model.eval()\n",
    "#making inference\n",
    "output = predictions  # Shape: [batch_size, seq_len, vocab_size]\n",
    "attention_weights = attention\n",
    "# Assuming vocab_size is 299 (as per your example)\n",
    "index_to_token_src = {i: token for i, token in enumerate(vocab['src'])}\n",
    "index_to_token = {i: token for i, token in enumerate(vocab['tar'])}\n",
    "vocab_size = len(vocab['tar'])\n",
    "output_probs = torch.softmax(output, dim=-1) \n",
    "predicted_tokens = output_probs.argmax(dim=-1)  \n",
    "predicted_sentence = [index_to_token[token.item()] for token in predicted_tokens]  # For batch_size=1, get the first sentence\n",
    "input_sentebce=[index_to_token_src[token] for token in s.squeeze(0).tolist()]  # For batch_size=1, get the first sentence\n",
    "print(\"Predicted Sentence:\", \" \".join(predicted_sentence))\n",
    "print(\"Input Sentence:\",\" \".join(input_sentebce))"
   ]
  },
  {
   "cell_type": "code",
   "execution_count": 1091,
   "id": "f958a814-7166-4cf0-b6cf-2c542685c446",
   "metadata": {},
   "outputs": [],
   "source": [
    "torch.save(train_loader,'train_loader')"
   ]
  },
  {
   "cell_type": "markdown",
   "id": "6504c029-0ade-4ace-82a0-4910f8b09998",
   "metadata": {},
   "source": [
    "**This amazing after so many runs but unfortunatly i lost the good model**"
   ]
  },
  {
   "cell_type": "markdown",
   "id": "746a8620-e7f2-4c89-8a0e-cf42dc683f59",
   "metadata": {},
   "source": [
    "## Multplicative Encoder Decoder Attention "
   ]
  },
  {
   "cell_type": "code",
   "execution_count": 618,
   "id": "c2d53060-443e-494e-ae07-0fa067237faa",
   "metadata": {},
   "outputs": [],
   "source": [
    "class Encoder(nn.Module):\n",
    "\n",
    "    def __init__(self, input_size, embedding_size, hidden_size, num_layers, drop_r):\n",
    "        super(Encoder, self).__init__()\n",
    "        self.hidden_size = hidden_size\n",
    "        self.num_layers = num_layers\n",
    "\n",
    "        self.embedding = nn.Embedding(input_size, embedding_size)\n",
    "        self.rnn = nn.LSTM(embedding_size, hidden_size, num_layers, bidirectional=True, dropout=drop_r)\n",
    "        self.dropout = nn.Dropout(drop_r)\n",
    "        self.fc_hidden = nn.Linear(hidden_size*2 , hidden_size)\n",
    "        self.fc_cell = nn.Linear(hidden_size*2, hidden_size)\n",
    "\n",
    "    def forward(self,x):\n",
    "        embedding = self.dropout(self.embedding(x))\n",
    "        output, (hidden, cell) = self.rnn(embedding)\n",
    "        encoder_state, (hidden, cell) = self.rnn(embedding)\n",
    "        hidden_forward = hidden[::2]  # Take every second index (even indices) -> forward hidden states\n",
    "        hidden_backward = hidden[1::2]\n",
    "    \n",
    "        \n",
    "        hidden = self.fc_hidden(torch.cat((hidden_forward, hidden_backward), dim=2))\n",
    "        cell = self.fc_cell(torch.cat((cell[::2], cell[1::2]), dim=2))\n",
    "        return encoder_state ,hidden, cell\n",
    "\n"
   ]
  },
  {
   "cell_type": "code",
   "execution_count": 103,
   "id": "a1934da6-0bb3-47a8-b877-1422bd95fae3",
   "metadata": {},
   "outputs": [],
   "source": [
    "# class Decoder(nn.Module):\n",
    "#     def __init__(self, input_size, embedding_size, hidden_size, output_size, num_layers):\n",
    "#         super(Decoder, self).__init__()\n",
    "#         self.hidden_size = hidden_size\n",
    "#         self.num_layers = num_layers\n",
    "\n",
    "#         self.embedding = nn.Embedding(input_size, embedding_size)\n",
    "#         self.rnn = nn.LSTM(hidden_size*2 + embedding_size, hidden_size, num_layers)\n",
    "#         self.energy = nn.Linear(hidden_size*3, 1)\n",
    "#         self.softmax = nn.Softmax(dim = 0)\n",
    "#         self.relu = nn.ReLU()\n",
    "#         self.fc = nn.Linear(hidden_size, output_size)\n",
    "\n",
    "\n",
    "#     def forward(self, x, hidden, cell, encoder_state):\n",
    "#         x = x.unsqueeze(0)\n",
    "#         embedding = self.embedding(x)\n",
    "#         sequence_length = encoder_state.shape[0]\n",
    "#         h_reshaped = hidden.repeat(sequence_length, 1, 1)\n",
    "#         print(\"h_reshaped\", h_reshaped.shape)\n",
    "#         print(\"encoder_state\", encoder_state.shape)\n",
    "#         energy = self.relu(self.energy(torch.cat((h_reshaped, encoder_state), dim = 2)))\n",
    "#         attention = self.softmax(energy)\n",
    "#         attention = attention.permute(1,2,0)\n",
    "#         encoder_state = encoder_state.permute(1,0,2)\n",
    "#         context_vector =torch.bmm(attention, encoder_state).permute(1,0,2)\n",
    "#         rnn_input = torch.cat((context_vector, embedding), dim= 2)\n",
    "#         outputs ,(hidden, cell) = self.rnn(rnn_input, (hidden, cell))\n",
    "#         prediction = self.fc(outputs)\n",
    "#         predictions = prediction.squeeze(0)\n",
    "#         return prediction, hidden, cell, attention\n",
    "        "
   ]
  },
  {
   "cell_type": "code",
   "execution_count": 337,
   "id": "ec523beb-7b1b-4ae2-9161-81bf4d927cb9",
   "metadata": {},
   "outputs": [],
   "source": [
    "class Decoder(nn.Module):\n",
    "    def __init__(self, input_size, embedding_size, hidden_size, output_size, num_layers, drop_r):\n",
    "        super(Decoder, self).__init__()\n",
    "        self.hidden_size = hidden_size\n",
    "        self.num_layers = num_layers\n",
    "\n",
    "        # Define layers\n",
    "        self.embedding = nn.Embedding(input_size, embedding_size)\n",
    "        # LSTM with num_layers\n",
    "        self.rnn = nn.LSTM(hidden_size*2 + embedding_size, hidden_size, num_layers, dropout=drop_r)\n",
    "        self.energy = nn.Linear(hidden_size*3, 1)\n",
    "        self.softmax = nn.Softmax(dim = 0)\n",
    "        self.relu = nn.ReLU()\n",
    "        self.dropout = nn.Dropout(drop_r)\n",
    "        self.fc = nn.Linear(hidden_size, output_size)\n",
    "        self.fc = nn.Linear(hidden_size * 3, output_size)  # Conca\n",
    "\n",
    "\n",
    "        self.context_projection = nn.Linear(hidden_size*2, hidden_size)  # Project context_vector to hidden_size\n",
    "        self.output_projection = nn.Linear(hidden_size, hidden_size) \n",
    "        self.embedding_projection = nn.Linear(embedding_size, hidden_size)\n",
    "        \n",
    "\n",
    "    def forward(self, x, hidden, cell, encoder_state):\n",
    "        x = x.unsqueeze(0)  # Add sequence dimension: [1, batch_size]\n",
    "        embedding = self.dropout(self.embedding(x))  # Shape: [1, batch_size, embedding_size]\n",
    "        sequence_length = encoder_state.shape[0]  # Sequence length from encoder outputs\n",
    "\n",
    "        # Repeat hidden state across the sequence length (for attention)\n",
    "        h_reshaped = hidden.repeat(sequence_length, 1, 1)  # Shape: [seq_len, batch_size, hidden_size]\n",
    "        \n",
    "        # Ensure batch_size and seq_len dimensions match between hidden and encoder_state\n",
    "        # h_reshaped = h_reshaped.permute(1, 0, 2)  # Shape: [batch_size, seq_len, hidden_size]\n",
    "        #repeat the ecoder_state\n",
    "        # print(\"h_reshaped\", h_reshaped.shape)\n",
    "        encoder_state = encoder_state.repeat(self.num_layers, 1, 1)  # Repeat encoder_state for num_layers\n",
    "        # print(\"encoder_state\", encoder_state.shape)\n",
    "\n",
    "        # Now concatenate across the feature dimension (dim=2)\n",
    "        # Ensure encoder_state is of shape [batch_size, seq_len, hidden_size*2]\n",
    "        energy = self.relu(self.energy(torch.cat((h_reshaped.permute(1,0,2), encoder_state.permute(1,0,2)), dim=2)))  # [batch_size, seq_len, 1]\n",
    "        \n",
    "        attention = self.softmax(energy).squeeze(2)  # Shape: [batch_size, seq_len]\n",
    "        attention = attention.unsqueeze(1)  # Shape: [batch_size, 1, seq_len]\n",
    "        \n",
    "        # Permute encoder_state to match the attention dimensions\n",
    "        encoder_state = encoder_state.permute(1, 0, 2)  # Shape: [batch_size, seq_len, hidden_size*2]\n",
    "        \n",
    "        # Compute context vector (weighted sum of encoder states)\n",
    "        context_vector = torch.bmm(attention, encoder_state)  # Shape: [batch_size, 1, hidden_size*2]\n",
    "        context_vector = context_vector.permute(1, 0, 2)  # Shape: [1, batch_size, hidden_size*2]\n",
    "\n",
    "        # Concatenate context vector with embedding for LSTM input\n",
    "        rnn_input = torch.cat((context_vector, embedding), dim=2)  # Shape: [1, batch_size, hidden_size*2 + embedding_size]\n",
    "        \n",
    "        # Pass through LSTM\n",
    "        outputs, (hidden, cell) = self.rnn(rnn_input, (hidden, cell))  # Shape of outputs: [1, batch_size, hidden_size]\n",
    "        embedding = self.embedding_projection(embedding)  # Shape: [1, batch_size, hidden_size]\n",
    "        outputs = self.output_projection(outputs)  # Shape: [1, batch_size, hidden_size]\n",
    "        context_vector = self.context_projection(context_vector)  # Shape: [1, batch_size, hidden_size]\n",
    "         # Check the shapes of tensors before concatenation\n",
    "        # print(\"Embedded shape:\", embedding.shape)  # [batch_size, hid_dim * 2]\n",
    "        # print(\"Output shape:\", outputs.shape)  # [batch_size, hid_dim * 2]\n",
    "        # print(\"Weighted shape:\", context_vector.shape)  # [batch_size, hid_dim * 2]\n",
    "        \n",
    "        rnn_output = torch.cat((embedding, outputs, context_vector), dim=2)  # Shape: [1, batch_size, hidden_size*3]\n",
    "        \n",
    "        # Project to final output\n",
    "        prediction = self.fc(rnn_output)  # Shape: [1, batch_size, output_size]\n",
    "\n",
    "        # Squeeze the output to remove the sequence dimension (for prediction)\n",
    "        predictions = prediction.squeeze(0)  # Shape: [batch_size, output_size]\n",
    "\n",
    "        return predictions, hidden, cell, attention\n"
   ]
  },
  {
   "cell_type": "code",
   "execution_count": null,
   "id": "c08793c1-989b-431f-9584-86f648dda2ff",
   "metadata": {},
   "outputs": [],
   "source": [
    "\n",
    "self.context_projection = nn.Linear(hidden_size*2, hidden_size)  # Project context_vector to hidden_size\n",
    "        self.output_projection = nn.Linear(hidden_size, hidden_size)  # Project LSTM outputs to hidden_size\n",
    "        \n",
    "        # Output projection layer\n",
    "        self.fc = nn.Linear(hidden_size * 3, output_size)  # Conca\n",
    "outputs = self.output_projection(outputs)  # Shape: [1, batch_size, hidden_size]\n",
    "\n",
    "        # Concatenate embedding, outputs, and context_vector for final prediction\n",
    "        rnn_output = torch.cat((embedding, outputs, context_vector), dim=2)  # Shape: [1, batch_size, hidden_size*3]\n",
    "        \n",
    "        # Project to final output\n",
    "        prediction = self.fc(rnn_output)  # Shape: [1, batch_size, output_size]\n",
    "\n",
    "        # Squeeze the output to remove the sequence dimension (for prediction)\n",
    "        predictions = prediction.squeeze(0)  # Shape: [batch_size, output_size]\n",
    "\n",
    "        return predictions, hidden, cell, attention"
   ]
  },
  {
   "cell_type": "code",
   "execution_count": 302,
   "id": "de2ca962-5a55-4750-96c8-8b8ea6023a53",
   "metadata": {},
   "outputs": [],
   "source": [
    "class Seq2Seq(nn.Module):\n",
    "    def __init__(self, encoder, decoder):\n",
    "        super(Seq2Seq, self).__init__()\n",
    "        self.encoder = encoder\n",
    "        self.decoder = decoder\n",
    "\n",
    "    def forward(self, source, target, teacher_force_ratio = 0.5):\n",
    "        batch_size = source.shape[1]\n",
    "        target_len = target.shape[0]\n",
    "        target_vocab_size = len(vocab['tar'])\n",
    "        \n",
    "        outputs = torch.zeros(target_len, batch_size, target_vocab_size)\n",
    "        attns = []\n",
    "        encoder_state ,hidden, cell= self.encoder(source)\n",
    "        f = target[0]\n",
    "        for t in range(1, target_len):\n",
    "            output, hidden, cell,attn = self.decoder(f, hidden, cell, encoder_state=encoder_state)\n",
    "            outputs[t] = output\n",
    "            attns.append(attn)\n",
    "            best_guess = output.argmax(1)\n",
    "            x = target[t] if random.random() < teacher_force_ratio else best_guess\n",
    "\n",
    "        return outputs, attns\n",
    "\n",
    "            "
   ]
  },
  {
   "cell_type": "code",
   "execution_count": 303,
   "id": "0aa6f229-9622-4d13-aa7f-6005b80906af",
   "metadata": {},
   "outputs": [],
   "source": [
    "import time\n",
    "import numpy as np\n",
    "from tqdm import tqdm\n",
    "train_losses_mul = []\n",
    "valid_losses_mul = []\n",
    "def train_loop(model, train_iterator, optimizer, valid_loader,criterion, num_epochs, clip, print_every=100):\n",
    "    best_valid_loss = float('inf')\n",
    "   \n",
    "    for epoch in tqdm(range(num_epochs)):\n",
    "        start_time = time.time()\n",
    "        \n",
    "        # Training phase\n",
    "        train_loss = train_model(model, train_iterator, optimizer, criterion, clip)\n",
    "        valid_loss = evaluate(model, valid_loader, criterion, val_loader_length, model_type ='mul')\n",
    "\n",
    "        \n",
    "        # Evaluation phase\n",
    "        # valid_loss = evaluate_model(model, valid_iterator, criterion)\n",
    "        train_losses_mul.append(train_loss)\n",
    "        valid_losses_mul.append(valid_loss)\n",
    "        end_time = time.time()\n",
    "        epoch_mins, epoch_secs = epoch_time(start_time, end_time)\n",
    "        \n",
    "        # Print metrics\n",
    "        print(f\"Epoch {epoch + 1} | Time: {epoch_mins}m {epoch_secs}s\")\n",
    "        print(f\"Train Loss: {train_loss:.3f} | Train PPL: {np.exp(train_loss):7.3f}\")\n",
    "        print(f\"Valid Loss: {valid_loss:.3f} | Valid PPL: {np.exp(valid_loss):7.3f}\")\n",
    "        \n",
    "        # Save the best model\n",
    "        if valid_loss < best_valid_loss:\n",
    "            best_valid_loss = valid_loss\n",
    "            torch.save(model.state_dict(), 'seq2seq_multiplicative.pt')\n",
    "\n",
    "def evaluate_model(model, iterator, criterion):\n",
    "    model.eval()\n",
    "    epoch_loss = 0\n",
    "    epoch_samples = 0\n",
    "    \n",
    "    with torch.no_grad():\n",
    "        for batch in iterator:\n",
    "            src = batch.src_data\n",
    "            trg = batch.trg_data\n",
    "            src_len = 12\n",
    "            \n",
    "            output, attentions = model(src, trg, teacher_forcing_ratio=0)  # No teacher forcing during eval\n",
    "\n",
    "            output_dim = output.shape[-1]  # trg_vocab_size\n",
    "            \n",
    "            output = output.view(-1, output_dim)  # Shape: [batch_size * trg_len, trg_vocab_size]\n",
    "            trg = trg[1:].view(-1)  # Ignore <sos> token for loss computation, Shape: [batch_size * (trg_len - 1)]\n",
    "            \n",
    "            loss = criterion(output, trg)\n",
    "            epoch_loss += loss.item()\n",
    "            epoch_samples += len(trg)\n",
    "\n",
    "    return epoch_loss / epoch_samples\n"
   ]
  },
  {
   "cell_type": "code",
   "execution_count": 295,
   "id": "416f3195-8241-43f0-8553-78826db731dc",
   "metadata": {},
   "outputs": [],
   "source": [
    "# import nltk\n",
    "# from nltk.translate.bleu_score import sentence_bleu\n",
    "\n",
    "# # Function to calculate BLEU score for the model predictions\n",
    "# def calculate_bleu(predictions, targets, n_gram=4):\n",
    "#     references = [[target.split()] for target in targets]  # List of references for each target sentence\n",
    "#     hypotheses = [pred.split() for pred in predictions]  # List of predicted sentences\n",
    "\n",
    "#     bleu_scores = [sentence_bleu(ref, hyp, weights=(1.0/n_gram,) * n_gram) for ref, hyp in zip(references, hypotheses)]\n",
    "    \n",
    "#     return sum(bleu_scores) / len(bleu_scores)\n",
    "\n",
    "# # Example of how it might be used in a training loop:\n",
    "# # Assuming 'outputs' is the model's predictions, and 'target_sentences' is the ground truth\n",
    "# ]\n",
    "\n",
    "# bleu_score = calculate_bleu(outputs, target_sentences)\n",
    "# print(f\"BLEU Score: {bleu_score}\")\n"
   ]
  },
  {
   "cell_type": "markdown",
   "id": "68723814-9c69-43da-a657-dddc4e00cea7",
   "metadata": {},
   "source": [
    "**We tried to implement BELU but the problem is that it takes lot time implement and although we can not take back-progration required some reinforcements**"
   ]
  },
  {
   "cell_type": "code",
   "execution_count": 331,
   "id": "fbd7be8b-9fc6-4271-9785-72e553fde1f7",
   "metadata": {},
   "outputs": [],
   "source": [
    "import gc\n",
    "def epoch_time(start_time, end_time):\n",
    "    elapsed_time = end_time - start_time\n",
    "    minutes = int(elapsed_time / 60)\n",
    "    seconds = int(elapsed_time - (minutes * 60))\n",
    "    return minutes, seconds\n",
    "out = []\n",
    "# attn = []\n",
    "IGNORE_TOKENS = [0, 1, 2]\n",
    "# Training function\n",
    "def train_model(model, iterator, optimizer, criterion, clip):\n",
    "    model.train()\n",
    "    epoch_loss = 0\n",
    "    epoch_samples = 0\n",
    "    \n",
    "    for i, batch in enumerate(iterator):\n",
    "        # Send batch to device\n",
    "        src = batch[0]  # Shape: [src_len, batch_size]\n",
    "        trg = batch[1]  # Shape: [trg_len, batch_size]\n",
    "        src_len = 8 # Shape: [batch_size]\n",
    "        \n",
    "        optimizer.zero_grad()  # Zero gradients\n",
    "        \n",
    "        # Forward pass\n",
    "        output, attentions = model(src, trg)\n",
    "        out.append(output)\n",
    "        # attn.append(attentions)\n",
    "        # Convert output to shape (trg_len, batch_size, trg_vocab_size)\n",
    "        output_dim = output.shape[-1]  # trg_vocab_size\n",
    "        output = output[1:].view(-1, output_dim)\n",
    "        \n",
    "        trg    = trg[1:].view(-1)\n",
    "        # trg = trg[1:].view(-1)  # Ignore <sos> token for loss computation, Shape: [batch_size * (trg_len - 1)]\n",
    "        # Compute loss\n",
    "        \n",
    "        mask = ~torch.isin(trg, torch.tensor(IGNORE_TOKENS)).bool()\n",
    "\n",
    "        loss = criterion(output, trg)\n",
    "        loss = loss * mask.float()\n",
    "        loss = loss.sum() / mask.sum()\n",
    "        loss.backward()\n",
    "        # Gradient clipping (helps to stabilize training)\n",
    "        torch.nn.utils.clip_grad_norm_(model.parameters(), clip)\n",
    "\n",
    "        # Optimizer step\n",
    "        optimizer.step()\n",
    "\n",
    "        epoch_loss += loss.item()\n",
    "        epoch_samples += len(trg)\n",
    "        gc.collect()\n",
    "    return epoch_loss / epoch_samples"
   ]
  },
  {
   "cell_type": "code",
   "execution_count": 338,
   "id": "02eb9257-a0d5-4f88-bfba-0cd406802c22",
   "metadata": {},
   "outputs": [
    {
     "name": "stderr",
     "output_type": "stream",
     "text": [
      "  0%|          | 0/10 [00:00<?, ?it/s]"
     ]
    },
    {
     "name": "stdout",
     "output_type": "stream",
     "text": [
      "Epoch 1 | Time: 1m 18s\n",
      "Train Loss: 0.023 | Train PPL:   1.023\n",
      "Valid Loss: 5.482 | Valid PPL: 240.359\n"
     ]
    },
    {
     "name": "stderr",
     "output_type": "stream",
     "text": [
      " 10%|█         | 1/10 [01:18<11:46, 78.51s/it]"
     ]
    },
    {
     "name": "stdout",
     "output_type": "stream",
     "text": [
      "Epoch 2 | Time: 1m 18s\n",
      "Train Loss: 0.022 | Train PPL:   1.022\n",
      "Valid Loss: 5.420 | Valid PPL: 225.770\n"
     ]
    },
    {
     "name": "stderr",
     "output_type": "stream",
     "text": [
      " 20%|██        | 2/10 [02:36<10:27, 78.47s/it]"
     ]
    },
    {
     "name": "stdout",
     "output_type": "stream",
     "text": [
      "Epoch 3 | Time: 1m 17s\n",
      "Train Loss: 0.021 | Train PPL:   1.022\n",
      "Valid Loss: 5.350 | Valid PPL: 210.677\n"
     ]
    },
    {
     "name": "stderr",
     "output_type": "stream",
     "text": [
      " 30%|███       | 3/10 [03:55<09:08, 78.31s/it]"
     ]
    },
    {
     "name": "stdout",
     "output_type": "stream",
     "text": [
      "Epoch 4 | Time: 1m 22s\n",
      "Train Loss: 0.021 | Train PPL:   1.021\n",
      "Valid Loss: 5.326 | Valid PPL: 205.549\n"
     ]
    },
    {
     "name": "stderr",
     "output_type": "stream",
     "text": [
      " 40%|████      | 4/10 [05:17<08:00, 80.02s/it]"
     ]
    },
    {
     "name": "stdout",
     "output_type": "stream",
     "text": [
      "Epoch 5 | Time: 1m 20s\n",
      "Train Loss: 0.021 | Train PPL:   1.021\n",
      "Valid Loss: 5.324 | Valid PPL: 205.154\n"
     ]
    },
    {
     "name": "stderr",
     "output_type": "stream",
     "text": [
      " 50%|█████     | 5/10 [06:38<06:41, 80.26s/it]"
     ]
    },
    {
     "name": "stdout",
     "output_type": "stream",
     "text": [
      "Epoch 6 | Time: 1m 17s\n",
      "Train Loss: 0.021 | Train PPL:   1.021\n",
      "Valid Loss: 5.257 | Valid PPL: 191.927\n"
     ]
    },
    {
     "name": "stderr",
     "output_type": "stream",
     "text": [
      " 60%|██████    | 6/10 [07:56<05:18, 79.55s/it]"
     ]
    },
    {
     "name": "stdout",
     "output_type": "stream",
     "text": [
      "Epoch 7 | Time: 1m 15s\n",
      "Train Loss: 0.021 | Train PPL:   1.021\n",
      "Valid Loss: 5.222 | Valid PPL: 185.331\n"
     ]
    },
    {
     "name": "stderr",
     "output_type": "stream",
     "text": [
      " 70%|███████   | 7/10 [09:12<03:54, 78.33s/it]"
     ]
    },
    {
     "name": "stdout",
     "output_type": "stream",
     "text": [
      "Epoch 8 | Time: 1m 14s\n",
      "Train Loss: 0.020 | Train PPL:   1.021\n",
      "Valid Loss: 5.198 | Valid PPL: 180.904\n"
     ]
    },
    {
     "name": "stderr",
     "output_type": "stream",
     "text": [
      " 80%|████████  | 8/10 [10:27<02:34, 77.32s/it]"
     ]
    },
    {
     "name": "stdout",
     "output_type": "stream",
     "text": [
      "Epoch 9 | Time: 1m 9s\n",
      "Train Loss: 0.020 | Train PPL:   1.021\n",
      "Valid Loss: 5.133 | Valid PPL: 169.474\n"
     ]
    },
    {
     "name": "stderr",
     "output_type": "stream",
     "text": [
      " 90%|█████████ | 9/10 [11:38<01:15, 75.42s/it]"
     ]
    },
    {
     "name": "stdout",
     "output_type": "stream",
     "text": [
      "Epoch 10 | Time: 1m 17s\n",
      "Train Loss: 0.020 | Train PPL:   1.020\n",
      "Valid Loss: 5.044 | Valid PPL: 155.043\n"
     ]
    },
    {
     "name": "stderr",
     "output_type": "stream",
     "text": [
      "100%|██████████| 10/10 [12:57<00:00, 77.77s/it]\n"
     ]
    }
   ],
   "source": [
    "from  torch import optim\n",
    "import random\n",
    "num_epochs = 10\n",
    "learning_rate = 0.001\n",
    "batch_size = 32\n",
    "\n",
    "load_model = False\n",
    "device = 'cpu'\n",
    "\n",
    "input_size_encoder = len(vocab['src'])\n",
    "input_size_decoder = len(vocab['tar'])\n",
    "\n",
    "output_size = len(vocab['tar'])\n",
    "encoder_embedding_size = 25\n",
    "6\n",
    "decoder_embedding_size = 256\n",
    "hidden_size = 500\n",
    "num_layers = 2\n",
    "enc_dropout = 0.3\n",
    "dec_dropout = 0.3\n",
    "\n",
    "# Initialize the model, optimizer, and loss function\n",
    "encoder = Encoder(input_size_encoder, encoder_embedding_size, hidden_size, num_layers, drop_r = enc_dropout)\n",
    "\n",
    "decoder = Decoder(input_size_decoder,decoder_embedding_size,hidden_size, output_size, num_layers, drop_r = dec_dropout)\n",
    "model = Seq2Seq(encoder, decoder)\n",
    "model.apply(initialize_weights)\n",
    "\n",
    "optimizer = optim.Adam(model.parameters(), lr=0.001)\n",
    "criterion = nn.CrossEntropyLoss(ignore_index=0, reduction='none')  # Ignore padding tokens during loss calculation\n",
    "\n",
    "# Set gradient clipping\n",
    "clip = 1\n",
    "\n",
    "class CustomDataset(torch.utils.data.Dataset):\n",
    "    def __init__(self, src_data, trg_data):\n",
    "        self.src_data = src_data\n",
    "        self.trg_data = trg_data\n",
    "    \n",
    "    def __len__(self):\n",
    "        return len(self.src_data)\n",
    "    \n",
    "    def __getitem__(self, idx):\n",
    "        # Make sure the index is within bounds and valid\n",
    "        src = self.src_data[idx]\n",
    "        trg = self.trg_data[idx]\n",
    "        return src, trg\n",
    "\n",
    "\n",
    "train_loop(model, train_loader,optimizer= optimizer, criterion=criterion, num_epochs=10, clip=clip, valid_loader=valid_loader)"
   ]
  },
  {
   "cell_type": "code",
   "execution_count": 281,
   "id": "2d262efb-3767-4d21-9517-5199e0567e7c",
   "metadata": {},
   "outputs": [
    {
     "data": {
      "image/png": "[encoded data removed]",
      "text/plain": [
       "<Figure size 640x480 with 2 Axes>"
      ]
     },
     "metadata": {},
     "output_type": "display_data"
    }
   ],
   "source": [
    "fig, axs=plt.subplots(1,2)\n",
    "axs[0].plot(valid_losses_mul)\n",
    "axs[1].plot(train_losses_mul)\n",
    "plt.tight_layout()"
   ]
  },
  {
   "cell_type": "markdown",
   "id": "92fbb3b8-c6e9-4456-828e-3de76b51eeef",
   "metadata": {},
   "source": [
    "**Definatly we are overfitting this model but tried a lot of ways to optmise it, and also to fit this model was night mare with all dimentations took days to come to this position so glad but cannot perform last thing\n",
    "i would like to do is to add more projections in decoder if i get time**"
   ]
  },
  {
   "cell_type": "code",
   "execution_count": 355,
   "id": "00413fff-e851-4a46-84c0-494f53082854",
   "metadata": {},
   "outputs": [
    {
     "data": {
      "image/png": "[encoded data removed]",
      "text/plain": [
       "<Figure size 640x480 with 2 Axes>"
      ]
     },
     "metadata": {},
     "output_type": "display_data"
    }
   ],
   "source": [
    "fig, axs=plt.subplots(1,2)\n",
    "axs[0].plot(valid_losses_mul)\n",
    "axs[1].plot(train_losses_mul)\n",
    "plt.tight_layout()"
   ]
  },
  {
   "cell_type": "markdown",
   "id": "ae9c4942-8458-473b-8c35-7a9999529384",
   "metadata": {},
   "source": [
    "**After adding embedding projections the training can go more longer i suppose**"
   ]
  },
  {
   "cell_type": "markdown",
   "id": "0ffbbeac-75d0-4a9a-82dc-cb2eefbb562e",
   "metadata": {},
   "source": [
    "## Inference"
   ]
  },
  {
   "cell_type": "code",
   "execution_count": 671,
   "id": "fe9be8d3-c653-4cab-b464-6c4afe3e4212",
   "metadata": {},
   "outputs": [
    {
     "data": {
      "text/plain": [
       "Seq2SeqPackedAttention(\n",
       "  (encoder): Encoder(\n",
       "    (embedding): Embedding(281, 256)\n",
       "    (rnn): LSTM(256, 512, bidirectional=True)\n",
       "    (fc): Linear(in_features=1024, out_features=512, bias=True)\n",
       "    (dropout): Dropout(p=0.3, inplace=False)\n",
       "  )\n",
       "  (decoder): Decoder(\n",
       "    (attention): Attention(\n",
       "      (v): Linear(in_features=512, out_features=1, bias=False)\n",
       "      (W): Linear(in_features=512, out_features=512, bias=True)\n",
       "      (U): Linear(in_features=1024, out_features=512, bias=True)\n",
       "    )\n",
       "    (embedding): Embedding(305, 256)\n",
       "    (rnn): GRU(1280, 512)\n",
       "    (fc): Linear(in_features=1792, out_features=305, bias=True)\n",
       "    (dropout): Dropout(p=0.3, inplace=False)\n",
       "  )\n",
       ")"
      ]
     },
     "execution_count": 671,
     "metadata": {},
     "output_type": "execute_result"
    }
   ],
   "source": [
    "s = input_ids_src[4,:].unsqueeze(0)\n",
    "t = input_ids_tar[4,:]\n",
    "model.eval()  "
   ]
  },
  {
   "cell_type": "code",
   "execution_count": 357,
   "id": "fa87867f-e8cf-46a4-b2fe-77c536a870e2",
   "metadata": {},
   "outputs": [],
   "source": [
    "#x, hidden, cell, encoder_state\n",
    "encoder_state ,hidden, cell = model.encoder(s)\n",
    "predictions, hidden, cell, attention=model.decoder(t,hidden, cell, encoder_state)"
   ]
  },
  {
   "cell_type": "code",
   "execution_count": 406,
   "id": "1b12c1dd-7a8e-421e-829c-6f1de1adc690",
   "metadata": {},
   "outputs": [
    {
     "name": "stdout",
     "output_type": "stream",
     "text": [
      "Predicted Sentence: एक्सेर्साइसर प्लग अनुप्रयोग _ अनुप्रयोग अनुप्रयोग अनुप्रयोग रंग\n",
      "Input Sentence: accerciser accessibility explorer <pad> <pad> <pad> <pad> <pad>\n"
     ]
    }
   ],
   "source": [
    "output = predictions  # Shape: [batch_size, seq_len, vocab_size]\n",
    "attention_weights = attention\n",
    "# Assuming vocab_size is 299 (as per your example)\n",
    "index_to_token_src = {i: token for i, token in enumerate(vocab['src'])}\n",
    "index_to_token = {i: token for i, token in enumerate(vocab['tar'])}\n",
    "vocab_size = len(vocab['tar'])\n",
    "output_probs = torch.softmax(output, dim=-1) \n",
    "predicted_tokens = output_probs.argmax(dim=-1)  \n",
    "predicted_sentence = [index_to_token[token.item()] for token in predicted_tokens]  # For batch_size=1, get the first sentence\n",
    "input_sentebce=[index_to_token_src[token] for token in s.squeeze(0).tolist()]  # For batch_size=1, get the first sentence\n",
    "print(\"Predicted Sentence:\", \" \".join(predicted_sentence))\n",
    "print(\"Input Sentence:\",\" \".join(input_sentebce))"
   ]
  },
  {
   "cell_type": "markdown",
   "id": "d2d7943c-bf29-4a29-9e27-6cedb4a4a030",
   "metadata": {},
   "source": [
    "**I dont know if that was the chance but the model gave right translation here**"
   ]
  },
  {
   "cell_type": "code",
   "execution_count": 672,
   "id": "dc2e3593-24fd-4a49-8d20-d0424343d12f",
   "metadata": {},
   "outputs": [
    {
     "name": "stdout",
     "output_type": "stream",
     "text": [
      "Predicted Sentence: एक्सेर्साइसर एक्सेर्साइसर एक्सेर्साइसर एक्सेर्साइसर एक्सेर्साइसर एक्सेर्साइसर <pad> <pad>\n",
      "Input Sentence: a list plugins disabled default <pad> <pad> <pad>\n"
     ]
    }
   ],
   "source": [
    "output = predictions  # Shape: [batch_size, seq_len, vocab_size]\n",
    "attention_weights = attention\n",
    "# Assuming vocab_size is 299 (as per your example)\n",
    "index_to_token_src = {i: token for i, token in enumerate(vocab['src'])}\n",
    "index_to_token = {i: token for i, token in enumerate(vocab['tar'])}\n",
    "vocab_size = len(vocab['tar'])\n",
    "output_probs = torch.softmax(output, dim=-1) \n",
    "predicted_tokens = output_probs.argmax(dim=-1)  \n",
    "predicted_sentence = [index_to_token[token.item()] for token in predicted_tokens]  # For batch_size=1, get the first sentence\n",
    "input_sentebce=[index_to_token_src[token] for token in s.squeeze(0).tolist()]  # For batch_size=1, get the first sentence\n",
    "print(\"Predicted Sentence:\", \" \".join(predicted_sentence))\n",
    "print(\"Input Sentence:\",\" \".join(input_sentebce))"
   ]
  },
  {
   "cell_type": "markdown",
   "id": "13cd1a44-d90a-4c3d-be26-0fb519168c87",
   "metadata": {},
   "source": [
    "**We can see the repeated words is because the model is not able to explore or learn more complexities need to invesitigate still**"
   ]
  },
  {
   "cell_type": "markdown",
   "id": "bbc601db-43f9-4197-8690-22ad801840fa",
   "metadata": {},
   "source": [
    "**Due to not taking bigger size as model was taking too long to train we halted early with the required resources and time**"
   ]
  },
  {
   "cell_type": "markdown",
   "id": "009c98a3-3936-4e8a-895e-d08e094f555c",
   "metadata": {},
   "source": [
    "## Atention Map ##"
   ]
  },
  {
   "cell_type": "code",
   "execution_count": 438,
   "id": "c676a773-f071-4462-bf0b-552ac4e6d15b",
   "metadata": {},
   "outputs": [],
   "source": [
    "import matplotlib.ticker as ticker\n",
    "\n",
    "def display_attention(sentence, translation, attention):\n",
    "    fig = plt.figure(figsize=(10,10))\n",
    "    ax = fig.add_subplot(111)\n",
    "    vmin = np.min(attention)\n",
    "    vmax = np.max(attention)\n",
    "    cax = ax.matshow(attention, cmap='coolwarm', vmin = vmin, vmax=vmax)\n",
    "    \n",
    "    ax.tick_params(labelsize=10)\n",
    "    y_ticks =  [''] + translation\n",
    "    x_ticks =  [''] + sentence \n",
    "    ax.set_xticklabels(x_ticks, rotation=45)\n",
    "    ax.set_yticklabels(y_ticks)\n",
    "    ax.xaxis.set_major_locator(ticker.MultipleLocator(1))\n",
    "    ax.yaxis.set_major_locator(ticker.MultipleLocator(1))\n",
    "    plt.show()\n",
    "    plt.close()"
   ]
  },
  {
   "cell_type": "code",
   "execution_count": 439,
   "id": "d9263939-5449-4b67-8e79-c44d30f01e12",
   "metadata": {},
   "outputs": [
    {
     "name": "stderr",
     "output_type": "stream",
     "text": [
      "/tmp/ipykernel_4185103/2237828966.py:13: UserWarning: set_ticklabels() should only be used with a fixed number of ticks, i.e. after set_ticks() or using a FixedLocator.\n",
      "  ax.set_xticklabels(x_ticks, rotation=45)\n",
      "/tmp/ipykernel_4185103/2237828966.py:14: UserWarning: set_ticklabels() should only be used with a fixed number of ticks, i.e. after set_ticks() or using a FixedLocator.\n",
      "  ax.set_yticklabels(y_ticks)\n",
      "findfont: Font family 'Mangal' not found.\n",
      "findfont: Font family 'Mangal' not found.\n",
      "findfont: Font family 'Mangal' not found.\n",
      "findfont: Font family 'Mangal' not found.\n",
      "findfont: Font family 'Mangal' not found.\n",
      "findfont: Font family 'Mangal' not found.\n",
      "/opt/tljh/user/lib/python3.12/site-packages/IPython/core/pylabtools.py:170: UserWarning: Glyph 2319 (\\N{DEVANAGARI LETTER E}) missing from font(s) DejaVu Sans.\n",
      "  fig.canvas.print_figure(bytes_io, **kw)\n",
      "/opt/tljh/user/lib/python3.12/site-packages/IPython/core/pylabtools.py:170: UserWarning: Matplotlib currently does not support Devanagari natively.\n",
      "  fig.canvas.print_figure(bytes_io, **kw)\n",
      "/opt/tljh/user/lib/python3.12/site-packages/IPython/core/pylabtools.py:170: UserWarning: Glyph 2325 (\\N{DEVANAGARI LETTER KA}) missing from font(s) DejaVu Sans.\n",
      "  fig.canvas.print_figure(bytes_io, **kw)\n",
      "/opt/tljh/user/lib/python3.12/site-packages/IPython/core/pylabtools.py:170: UserWarning: Glyph 2381 (\\N{DEVANAGARI SIGN VIRAMA}) missing from font(s) DejaVu Sans.\n",
      "  fig.canvas.print_figure(bytes_io, **kw)\n",
      "/opt/tljh/user/lib/python3.12/site-packages/IPython/core/pylabtools.py:170: UserWarning: Glyph 2360 (\\N{DEVANAGARI LETTER SA}) missing from font(s) DejaVu Sans.\n",
      "  fig.canvas.print_figure(bytes_io, **kw)\n",
      "/opt/tljh/user/lib/python3.12/site-packages/IPython/core/pylabtools.py:170: UserWarning: Glyph 2375 (\\N{DEVANAGARI VOWEL SIGN E}) missing from font(s) DejaVu Sans.\n",
      "  fig.canvas.print_figure(bytes_io, **kw)\n",
      "/opt/tljh/user/lib/python3.12/site-packages/IPython/core/pylabtools.py:170: UserWarning: Glyph 2352 (\\N{DEVANAGARI LETTER RA}) missing from font(s) DejaVu Sans.\n",
      "  fig.canvas.print_figure(bytes_io, **kw)\n",
      "/opt/tljh/user/lib/python3.12/site-packages/IPython/core/pylabtools.py:170: UserWarning: Glyph 2366 (\\N{DEVANAGARI VOWEL SIGN AA}) missing from font(s) DejaVu Sans.\n",
      "  fig.canvas.print_figure(bytes_io, **kw)\n",
      "/opt/tljh/user/lib/python3.12/site-packages/IPython/core/pylabtools.py:170: UserWarning: Glyph 2311 (\\N{DEVANAGARI LETTER I}) missing from font(s) DejaVu Sans.\n",
      "  fig.canvas.print_figure(bytes_io, **kw)\n",
      "findfont: Font family 'Mangal' not found.\n",
      "/opt/tljh/user/lib/python3.12/site-packages/IPython/core/pylabtools.py:170: UserWarning: Glyph 2346 (\\N{DEVANAGARI LETTER PA}) missing from font(s) DejaVu Sans.\n",
      "  fig.canvas.print_figure(bytes_io, **kw)\n",
      "/opt/tljh/user/lib/python3.12/site-packages/IPython/core/pylabtools.py:170: UserWarning: Glyph 2354 (\\N{DEVANAGARI LETTER LA}) missing from font(s) DejaVu Sans.\n",
      "  fig.canvas.print_figure(bytes_io, **kw)\n",
      "/opt/tljh/user/lib/python3.12/site-packages/IPython/core/pylabtools.py:170: UserWarning: Glyph 2327 (\\N{DEVANAGARI LETTER GA}) missing from font(s) DejaVu Sans.\n",
      "  fig.canvas.print_figure(bytes_io, **kw)\n",
      "findfont: Font family 'Mangal' not found.\n",
      "/opt/tljh/user/lib/python3.12/site-packages/IPython/core/pylabtools.py:170: UserWarning: Glyph 2309 (\\N{DEVANAGARI LETTER A}) missing from font(s) DejaVu Sans.\n",
      "  fig.canvas.print_figure(bytes_io, **kw)\n",
      "/opt/tljh/user/lib/python3.12/site-packages/IPython/core/pylabtools.py:170: UserWarning: Glyph 2344 (\\N{DEVANAGARI LETTER NA}) missing from font(s) DejaVu Sans.\n",
      "  fig.canvas.print_figure(bytes_io, **kw)\n",
      "/opt/tljh/user/lib/python3.12/site-packages/IPython/core/pylabtools.py:170: UserWarning: Glyph 2369 (\\N{DEVANAGARI VOWEL SIGN U}) missing from font(s) DejaVu Sans.\n",
      "  fig.canvas.print_figure(bytes_io, **kw)\n",
      "/opt/tljh/user/lib/python3.12/site-packages/IPython/core/pylabtools.py:170: UserWarning: Glyph 2351 (\\N{DEVANAGARI LETTER YA}) missing from font(s) DejaVu Sans.\n",
      "  fig.canvas.print_figure(bytes_io, **kw)\n",
      "/opt/tljh/user/lib/python3.12/site-packages/IPython/core/pylabtools.py:170: UserWarning: Glyph 2379 (\\N{DEVANAGARI VOWEL SIGN O}) missing from font(s) DejaVu Sans.\n",
      "  fig.canvas.print_figure(bytes_io, **kw)\n",
      "findfont: Font family 'Mangal' not found.\n",
      "findfont: Font family 'Mangal' not found.\n",
      "findfont: Font family 'Mangal' not found.\n",
      "findfont: Font family 'Mangal' not found.\n",
      "findfont: Font family 'Mangal' not found.\n",
      "findfont: Font family 'Mangal' not found.\n",
      "findfont: Font family 'Mangal' not found.\n",
      "findfont: Font family 'Mangal' not found.\n",
      "findfont: Font family 'Mangal' not found.\n",
      "findfont: Font family 'Mangal' not found.\n",
      "findfont: Font family 'Mangal' not found.\n",
      "findfont: Font family 'Mangal' not found.\n",
      "findfont: Font family 'Mangal' not found.\n",
      "findfont: Font family 'Mangal' not found.\n",
      "findfont: Font family 'Mangal' not found.\n",
      "findfont: Font family 'Mangal' not found.\n",
      "findfont: Font family 'Mangal' not found.\n",
      "findfont: Font family 'Mangal' not found.\n",
      "findfont: Font family 'Mangal' not found.\n"
     ]
    },
    {
     "data": {
      "image/png": "[encoded data removed]",
      "text/plain": [
       "<Figure size 1000x1000 with 1 Axes>"
      ]
     },
     "metadata": {},
     "output_type": "display_data"
    }
   ],
   "source": [
    "display_attention(input_sentebce, predicted_sentence,attention.squeeze(0).numpy())"
   ]
  },
  {
   "cell_type": "markdown",
   "id": "5abaaa4d-c83b-4e50-b543-ba8a5e5727e3",
   "metadata": {},
   "source": [
    "**We do not have access to the target langaue so no possibility to see but from above the word we can see the 1 ->1 and 2 -> 3 attention is right , we will add this to our ReadMe**"
   ]
  },
  {
   "cell_type": "markdown",
   "id": "e84d68c1-7a4b-4970-9ab5-d6a9cf3e1fd3",
   "metadata": {},
   "source": [
    "## Final Thought and Observations"
   ]
  },
  {
   "cell_type": "code",
   "execution_count": 1181,
   "id": "c69a19be-3ad2-4367-a6bb-6e535ea70b12",
   "metadata": {},
   "outputs": [
    {
     "data": {
      "text/html": [
       "<div>\n",
       "<style scoped>\n",
       "    .dataframe tbody tr th:only-of-type {\n",
       "        vertical-align: middle;\n",
       "    }\n",
       "\n",
       "    .dataframe tbody tr th {\n",
       "        vertical-align: top;\n",
       "    }\n",
       "\n",
       "    .dataframe thead th {\n",
       "        text-align: right;\n",
       "    }\n",
       "</style>\n",
       "<table border=\"1\" class=\"dataframe\">\n",
       "  <thead>\n",
       "    <tr style=\"text-align: right;\">\n",
       "      <th></th>\n",
       "      <th>Attention</th>\n",
       "      <th>Traning Loss</th>\n",
       "      <th>Training PPL</th>\n",
       "      <th>Validation Loss</th>\n",
       "      <th>Validation PPL</th>\n",
       "    </tr>\n",
       "  </thead>\n",
       "  <tbody>\n",
       "    <tr>\n",
       "      <th>0</th>\n",
       "      <td>Additive Attention</td>\n",
       "      <td>1.97</td>\n",
       "      <td>7.99</td>\n",
       "      <td>2.049</td>\n",
       "      <td>7.63</td>\n",
       "    </tr>\n",
       "    <tr>\n",
       "      <th>1</th>\n",
       "      <td>Multiplicative Attention</td>\n",
       "      <td>0.020</td>\n",
       "      <td>1.20</td>\n",
       "      <td>5.04</td>\n",
       "      <td>115</td>\n",
       "    </tr>\n",
       "  </tbody>\n",
       "</table>\n",
       "</div>"
      ],
      "text/plain": [
       "                  Attention Traning Loss Training PPL Validation Loss  \\\n",
       "0        Additive Attention         1.97         7.99           2.049   \n",
       "1  Multiplicative Attention        0.020         1.20            5.04   \n",
       "\n",
       "  Validation PPL  \n",
       "0           7.63  \n",
       "1            115  "
      ]
     },
     "metadata": {},
     "output_type": "display_data"
    }
   ],
   "source": [
    "from IPython.display import display, HTML\n",
    "import pandas as pd\n",
    "v=pd.DataFrame(columns =['Attention', 'Traning Loss', 'Training PPL', 'Validation Loss', 'Validation PPL'])\n",
    "v['Attention'] = ['Additive Attention', 'Multiplicative Attention']\n",
    "v['Traning Loss'] = ['1.97', '0.020']\n",
    "v['Training PPL'] = ['7.99', '1.20', ]\n",
    "v['Validation PPL'] = ['7.63', '115']\n",
    "v['Validation Loss'] = ['2.049', '5.04']\n",
    "display(v)"
   ]
  },
  {
   "cell_type": "markdown",
   "id": "6791dc0c-86fb-4d91-8670-b7af686a6f72",
   "metadata": {},
   "source": [
    "**The models are hard to train build the most challanging part is the non monotonisity of models which make it more harder. The key observation here is that additive attention model are faster**\n",
    "**easier to train than multiplicativite, multiplicative attention design capture more global meaning where as additove more of sementic. Another observation is the score metric here is aith multiplicative is not good**\n",
    "**shorter trainer where as additive is prone to overfit quicker**"
   ]
  }
 ],
 "metadata": {
  "kernelspec": {
   "display_name": "Python 3 (ipykernel)",
   "language": "python",
   "name": "python3"
  },
  "language_info": {
   "codemirror_mode": {
    "name": "ipython",
    "version": 3
   },
   "file_extension": ".py",
   "mimetype": "text/x-python",
   "name": "python",
   "nbconvert_exporter": "python",
   "pygments_lexer": "ipython3",
   "version": "3.12.6"
  }
 },
 "nbformat": 4,
 "nbformat_minor": 5
}
